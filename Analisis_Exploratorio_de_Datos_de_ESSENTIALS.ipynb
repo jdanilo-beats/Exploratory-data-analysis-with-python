{
  "cells": [
    {
      "cell_type": "markdown",
      "metadata": {
        "id": "view-in-github",
        "colab_type": "text"
      },
      "source": [
        "<a href=\"https://colab.research.google.com/github/jdanilo-beats/Exploratory-data-analysis-with-python/blob/main/Analisis_Exploratorio_de_Datos_de_ESSENTIALS.ipynb\" target=\"_parent\"><img src=\"https://colab.research.google.com/assets/colab-badge.svg\" alt=\"Open In Colab\"/></a>"
      ]
    },
    {
      "cell_type": "markdown",
      "id": "1c1c9609",
      "metadata": {
        "id": "1c1c9609"
      },
      "source": [
        "# Exploratory Data Analysis with Python\n",
        "\n",
        "---\n",
        "\n"
      ]
    },
    {
      "cell_type": "markdown",
      "id": "0150eb3c",
      "metadata": {
        "id": "0150eb3c"
      },
      "source": [
        "*### Caso de Estudio: Establecer la Fuerza de Ventas de compañia \"ESSENTIAL\" mediante el analisis de datos con python*"
      ]
    },
    {
      "cell_type": "markdown",
      "id": "2a12ede9",
      "metadata": {
        "id": "2a12ede9"
      },
      "source": [
        "<hr>\n",
        "\n",
        "![Fuerza de Ventas](https://www.aprendedatos.com/wp-content/uploads/2022/02/analysis-1024x576-1024x585.jpg)\n",
        "\n",
        "<hr>"
      ]
    },
    {
      "cell_type": "markdown",
      "id": "06ff33cc",
      "metadata": {
        "id": "06ff33cc"
      },
      "source": [
        "## Descripción del problema de la naturaleza"
      ]
    },
    {
      "cell_type": "markdown",
      "id": "829f07e4",
      "metadata": {
        "id": "829f07e4"
      },
      "source": [
        "La problematica en este projecto presenta un dataset con información de la Fuerza de Ventas Empresarial o Pequeños Distribuidores de la compañía del Rubro de Belleza \"ESSENTIAL\".\n",
        "\n",
        "La Información contenida en este dataset es sobre información sociodemográfica (Edad, Género, Estado Civil, Tenencia de casa propia, Número de Hijos, Ubicación), económica (Salario) y de la Fuerza de Ventas, además de información referida a la cartera de clientes que manejan (Historia, Número de catálogos y Monto de dinero asignado).\n",
        "\n",
        "Estos datos son utilizados para poder captar y ver la posibilidad de convertirlos en nuevos distribuidores de la compañia de belleza \"ESSENTIAL\".\n",
        "\n",
        "La compañía se ha dado cuenta que en los últimos meses y con la recuperación lenta de la economía del sector, la asignación de carteras ha tenido algunas fallas o falta de eficiencia puesto que las características de los clientes no se adaptan a los perfiles de los distribuidores de la Fuerza de Ventas.\n",
        "\n",
        "\n",
        "**Objetivos de Negocio:**\n",
        "\n",
        "\n",
        "Debido a estos factores mencionados se establecen los siguientes objetivos:\n",
        "\n",
        "- Encontrar, resumir y/o condensar las variables para formar grupos, segmentos, clusters o bloques de pequeños distribuidores de la FFVV.\n",
        "\n",
        "- Realizar una mejor asignación de la cartera de clientes."
      ]
    },
    {
      "cell_type": "markdown",
      "id": "3b2a7021",
      "metadata": {
        "id": "3b2a7021"
      },
      "source": [
        "### Se procede a realizar la carga de archivos\n"
      ]
    },
    {
      "cell_type": "code",
      "execution_count": null,
      "id": "65469c5f",
      "metadata": {
        "id": "65469c5f"
      },
      "outputs": [],
      "source": [
        "# Primero vamos a importar la librería pandas para poder leer archivos en formato .xlsx\n",
        "import pandas as pd"
      ]
    },
    {
      "cell_type": "code",
      "source": [
        "# Se habilita permisos para acceder a google drive donde se encuentra el archivo .xlsx\n",
        "\n",
        "from google.colab import drive\n",
        "drive.mount('/content/drive')"
      ],
      "metadata": {
        "colab": {
          "base_uri": "https://localhost:8080/"
        },
        "id": "BpS_b_5Wybci",
        "outputId": "70c43488-df6e-4aec-bb77-40de07597361"
      },
      "id": "BpS_b_5Wybci",
      "execution_count": null,
      "outputs": [
        {
          "output_type": "stream",
          "name": "stdout",
          "text": [
            "Mounted at /content/drive\n"
          ]
        }
      ]
    },
    {
      "cell_type": "code",
      "execution_count": null,
      "id": "fe0491eb",
      "metadata": {
        "id": "fe0491eb"
      },
      "outputs": [],
      "source": [
        "# Lectura del archivo en formato xlsx\n",
        "FuerzaVtasConv = pd.read_excel('/content/drive/MyDrive/Colab Notebooks/FuerzaVentasConvenios.xlsx')"
      ]
    },
    {
      "cell_type": "code",
      "execution_count": null,
      "id": "93ade855",
      "metadata": {
        "id": "93ade855",
        "outputId": "960e7ecb-f1c0-4021-c788-8c79c806d8cc",
        "colab": {
          "base_uri": "https://localhost:8080/",
          "height": 677
        }
      },
      "outputs": [
        {
          "output_type": "execute_result",
          "data": {
            "text/plain": [
              "      Edad  Genero CasaPropia EstadoCiv Ubicación  Salario  Niños Historia  \\\n",
              "0    Mayor   Mujer     Propia   Soltero     Lejos    47500      0     Alta   \n",
              "1   Adulto  Hombre  Alquilada   Soltero     Cerca    63600      0     Alta   \n",
              "2    Joven   Mujer  Alquilada   Soltero     Cerca    13500      0     Baja   \n",
              "3   Adulto  Hombre     Propia    Casado     Cerca    85600      1     Alta   \n",
              "4   Adulto   Mujer     Propia   Soltero     Cerca    68400      0     Alta   \n",
              "5    Joven  Hombre     Propia    Casado     Cerca    30400      0     Baja   \n",
              "6   Adulto   Mujer  Alquilada   Soltero     Cerca    48100      0    Media   \n",
              "7   Adulto  Hombre     Propia   Soltero     Cerca    68400      0     Alta   \n",
              "8   Adulto   Mujer     Propia    Casado     Cerca    51900      3     Baja   \n",
              "9    Mayor  Hombre     Propia    Casado     Lejos    80700      0      NaN   \n",
              "10   Joven  Hombre  Alquilada    Casado     Cerca    43700      1      NaN   \n",
              "11  Adulto  Hombre     Propia    Casado     Lejos   111800      3     Alta   \n",
              "12  Adulto   Mujer     Propia    Casado     Cerca    44100      1    Media   \n",
              "13  Adulto  Hombre     Propia    Casado     Cerca   111400      0     Alta   \n",
              "14   Mayor   Mujer     Propia    Casado     Lejos   110000      0     Alta   \n",
              "15  Adulto   Mujer     Propia    Casado     Lejos    83100      1      NaN   \n",
              "16   Mayor   Mujer     Propia    Casado     Cerca    82800      0     Alta   \n",
              "17  Adulto  Hombre     Propia    Casado     Cerca    90100      0     Alta   \n",
              "18  Adulto  Hombre  Alquilada   Soltero     Cerca    38600      1     Baja   \n",
              "19   Mayor   Mujer  Alquilada   Soltero     Lejos    14000      0     Baja   \n",
              "\n",
              "    Catalogos  MontoDinero  \n",
              "0           6          755  \n",
              "1           6         1318  \n",
              "2          18          296  \n",
              "3          18         2436  \n",
              "4          12         1304  \n",
              "5           6          495  \n",
              "6          12          782  \n",
              "7          18         1155  \n",
              "8           6          158  \n",
              "9          18         3034  \n",
              "10         12          927  \n",
              "11         18         2065  \n",
              "12         24          704  \n",
              "13         12         2136  \n",
              "14         24         5564  \n",
              "15         12         2766  \n",
              "16         24         3010  \n",
              "17         18         1956  \n",
              "18         18          542  \n",
              "19         12          410  "
            ],
            "text/html": [
              "\n",
              "  <div id=\"df-f600132a-33b5-42f1-8e16-12f092f5f41f\">\n",
              "    <div class=\"colab-df-container\">\n",
              "      <div>\n",
              "<style scoped>\n",
              "    .dataframe tbody tr th:only-of-type {\n",
              "        vertical-align: middle;\n",
              "    }\n",
              "\n",
              "    .dataframe tbody tr th {\n",
              "        vertical-align: top;\n",
              "    }\n",
              "\n",
              "    .dataframe thead th {\n",
              "        text-align: right;\n",
              "    }\n",
              "</style>\n",
              "<table border=\"1\" class=\"dataframe\">\n",
              "  <thead>\n",
              "    <tr style=\"text-align: right;\">\n",
              "      <th></th>\n",
              "      <th>Edad</th>\n",
              "      <th>Genero</th>\n",
              "      <th>CasaPropia</th>\n",
              "      <th>EstadoCiv</th>\n",
              "      <th>Ubicación</th>\n",
              "      <th>Salario</th>\n",
              "      <th>Niños</th>\n",
              "      <th>Historia</th>\n",
              "      <th>Catalogos</th>\n",
              "      <th>MontoDinero</th>\n",
              "    </tr>\n",
              "  </thead>\n",
              "  <tbody>\n",
              "    <tr>\n",
              "      <th>0</th>\n",
              "      <td>Mayor</td>\n",
              "      <td>Mujer</td>\n",
              "      <td>Propia</td>\n",
              "      <td>Soltero</td>\n",
              "      <td>Lejos</td>\n",
              "      <td>47500</td>\n",
              "      <td>0</td>\n",
              "      <td>Alta</td>\n",
              "      <td>6</td>\n",
              "      <td>755</td>\n",
              "    </tr>\n",
              "    <tr>\n",
              "      <th>1</th>\n",
              "      <td>Adulto</td>\n",
              "      <td>Hombre</td>\n",
              "      <td>Alquilada</td>\n",
              "      <td>Soltero</td>\n",
              "      <td>Cerca</td>\n",
              "      <td>63600</td>\n",
              "      <td>0</td>\n",
              "      <td>Alta</td>\n",
              "      <td>6</td>\n",
              "      <td>1318</td>\n",
              "    </tr>\n",
              "    <tr>\n",
              "      <th>2</th>\n",
              "      <td>Joven</td>\n",
              "      <td>Mujer</td>\n",
              "      <td>Alquilada</td>\n",
              "      <td>Soltero</td>\n",
              "      <td>Cerca</td>\n",
              "      <td>13500</td>\n",
              "      <td>0</td>\n",
              "      <td>Baja</td>\n",
              "      <td>18</td>\n",
              "      <td>296</td>\n",
              "    </tr>\n",
              "    <tr>\n",
              "      <th>3</th>\n",
              "      <td>Adulto</td>\n",
              "      <td>Hombre</td>\n",
              "      <td>Propia</td>\n",
              "      <td>Casado</td>\n",
              "      <td>Cerca</td>\n",
              "      <td>85600</td>\n",
              "      <td>1</td>\n",
              "      <td>Alta</td>\n",
              "      <td>18</td>\n",
              "      <td>2436</td>\n",
              "    </tr>\n",
              "    <tr>\n",
              "      <th>4</th>\n",
              "      <td>Adulto</td>\n",
              "      <td>Mujer</td>\n",
              "      <td>Propia</td>\n",
              "      <td>Soltero</td>\n",
              "      <td>Cerca</td>\n",
              "      <td>68400</td>\n",
              "      <td>0</td>\n",
              "      <td>Alta</td>\n",
              "      <td>12</td>\n",
              "      <td>1304</td>\n",
              "    </tr>\n",
              "    <tr>\n",
              "      <th>5</th>\n",
              "      <td>Joven</td>\n",
              "      <td>Hombre</td>\n",
              "      <td>Propia</td>\n",
              "      <td>Casado</td>\n",
              "      <td>Cerca</td>\n",
              "      <td>30400</td>\n",
              "      <td>0</td>\n",
              "      <td>Baja</td>\n",
              "      <td>6</td>\n",
              "      <td>495</td>\n",
              "    </tr>\n",
              "    <tr>\n",
              "      <th>6</th>\n",
              "      <td>Adulto</td>\n",
              "      <td>Mujer</td>\n",
              "      <td>Alquilada</td>\n",
              "      <td>Soltero</td>\n",
              "      <td>Cerca</td>\n",
              "      <td>48100</td>\n",
              "      <td>0</td>\n",
              "      <td>Media</td>\n",
              "      <td>12</td>\n",
              "      <td>782</td>\n",
              "    </tr>\n",
              "    <tr>\n",
              "      <th>7</th>\n",
              "      <td>Adulto</td>\n",
              "      <td>Hombre</td>\n",
              "      <td>Propia</td>\n",
              "      <td>Soltero</td>\n",
              "      <td>Cerca</td>\n",
              "      <td>68400</td>\n",
              "      <td>0</td>\n",
              "      <td>Alta</td>\n",
              "      <td>18</td>\n",
              "      <td>1155</td>\n",
              "    </tr>\n",
              "    <tr>\n",
              "      <th>8</th>\n",
              "      <td>Adulto</td>\n",
              "      <td>Mujer</td>\n",
              "      <td>Propia</td>\n",
              "      <td>Casado</td>\n",
              "      <td>Cerca</td>\n",
              "      <td>51900</td>\n",
              "      <td>3</td>\n",
              "      <td>Baja</td>\n",
              "      <td>6</td>\n",
              "      <td>158</td>\n",
              "    </tr>\n",
              "    <tr>\n",
              "      <th>9</th>\n",
              "      <td>Mayor</td>\n",
              "      <td>Hombre</td>\n",
              "      <td>Propia</td>\n",
              "      <td>Casado</td>\n",
              "      <td>Lejos</td>\n",
              "      <td>80700</td>\n",
              "      <td>0</td>\n",
              "      <td>NaN</td>\n",
              "      <td>18</td>\n",
              "      <td>3034</td>\n",
              "    </tr>\n",
              "    <tr>\n",
              "      <th>10</th>\n",
              "      <td>Joven</td>\n",
              "      <td>Hombre</td>\n",
              "      <td>Alquilada</td>\n",
              "      <td>Casado</td>\n",
              "      <td>Cerca</td>\n",
              "      <td>43700</td>\n",
              "      <td>1</td>\n",
              "      <td>NaN</td>\n",
              "      <td>12</td>\n",
              "      <td>927</td>\n",
              "    </tr>\n",
              "    <tr>\n",
              "      <th>11</th>\n",
              "      <td>Adulto</td>\n",
              "      <td>Hombre</td>\n",
              "      <td>Propia</td>\n",
              "      <td>Casado</td>\n",
              "      <td>Lejos</td>\n",
              "      <td>111800</td>\n",
              "      <td>3</td>\n",
              "      <td>Alta</td>\n",
              "      <td>18</td>\n",
              "      <td>2065</td>\n",
              "    </tr>\n",
              "    <tr>\n",
              "      <th>12</th>\n",
              "      <td>Adulto</td>\n",
              "      <td>Mujer</td>\n",
              "      <td>Propia</td>\n",
              "      <td>Casado</td>\n",
              "      <td>Cerca</td>\n",
              "      <td>44100</td>\n",
              "      <td>1</td>\n",
              "      <td>Media</td>\n",
              "      <td>24</td>\n",
              "      <td>704</td>\n",
              "    </tr>\n",
              "    <tr>\n",
              "      <th>13</th>\n",
              "      <td>Adulto</td>\n",
              "      <td>Hombre</td>\n",
              "      <td>Propia</td>\n",
              "      <td>Casado</td>\n",
              "      <td>Cerca</td>\n",
              "      <td>111400</td>\n",
              "      <td>0</td>\n",
              "      <td>Alta</td>\n",
              "      <td>12</td>\n",
              "      <td>2136</td>\n",
              "    </tr>\n",
              "    <tr>\n",
              "      <th>14</th>\n",
              "      <td>Mayor</td>\n",
              "      <td>Mujer</td>\n",
              "      <td>Propia</td>\n",
              "      <td>Casado</td>\n",
              "      <td>Lejos</td>\n",
              "      <td>110000</td>\n",
              "      <td>0</td>\n",
              "      <td>Alta</td>\n",
              "      <td>24</td>\n",
              "      <td>5564</td>\n",
              "    </tr>\n",
              "    <tr>\n",
              "      <th>15</th>\n",
              "      <td>Adulto</td>\n",
              "      <td>Mujer</td>\n",
              "      <td>Propia</td>\n",
              "      <td>Casado</td>\n",
              "      <td>Lejos</td>\n",
              "      <td>83100</td>\n",
              "      <td>1</td>\n",
              "      <td>NaN</td>\n",
              "      <td>12</td>\n",
              "      <td>2766</td>\n",
              "    </tr>\n",
              "    <tr>\n",
              "      <th>16</th>\n",
              "      <td>Mayor</td>\n",
              "      <td>Mujer</td>\n",
              "      <td>Propia</td>\n",
              "      <td>Casado</td>\n",
              "      <td>Cerca</td>\n",
              "      <td>82800</td>\n",
              "      <td>0</td>\n",
              "      <td>Alta</td>\n",
              "      <td>24</td>\n",
              "      <td>3010</td>\n",
              "    </tr>\n",
              "    <tr>\n",
              "      <th>17</th>\n",
              "      <td>Adulto</td>\n",
              "      <td>Hombre</td>\n",
              "      <td>Propia</td>\n",
              "      <td>Casado</td>\n",
              "      <td>Cerca</td>\n",
              "      <td>90100</td>\n",
              "      <td>0</td>\n",
              "      <td>Alta</td>\n",
              "      <td>18</td>\n",
              "      <td>1956</td>\n",
              "    </tr>\n",
              "    <tr>\n",
              "      <th>18</th>\n",
              "      <td>Adulto</td>\n",
              "      <td>Hombre</td>\n",
              "      <td>Alquilada</td>\n",
              "      <td>Soltero</td>\n",
              "      <td>Cerca</td>\n",
              "      <td>38600</td>\n",
              "      <td>1</td>\n",
              "      <td>Baja</td>\n",
              "      <td>18</td>\n",
              "      <td>542</td>\n",
              "    </tr>\n",
              "    <tr>\n",
              "      <th>19</th>\n",
              "      <td>Mayor</td>\n",
              "      <td>Mujer</td>\n",
              "      <td>Alquilada</td>\n",
              "      <td>Soltero</td>\n",
              "      <td>Lejos</td>\n",
              "      <td>14000</td>\n",
              "      <td>0</td>\n",
              "      <td>Baja</td>\n",
              "      <td>12</td>\n",
              "      <td>410</td>\n",
              "    </tr>\n",
              "  </tbody>\n",
              "</table>\n",
              "</div>\n",
              "      <button class=\"colab-df-convert\" onclick=\"convertToInteractive('df-f600132a-33b5-42f1-8e16-12f092f5f41f')\"\n",
              "              title=\"Convert this dataframe to an interactive table.\"\n",
              "              style=\"display:none;\">\n",
              "        \n",
              "  <svg xmlns=\"http://www.w3.org/2000/svg\" height=\"24px\"viewBox=\"0 0 24 24\"\n",
              "       width=\"24px\">\n",
              "    <path d=\"M0 0h24v24H0V0z\" fill=\"none\"/>\n",
              "    <path d=\"M18.56 5.44l.94 2.06.94-2.06 2.06-.94-2.06-.94-.94-2.06-.94 2.06-2.06.94zm-11 1L8.5 8.5l.94-2.06 2.06-.94-2.06-.94L8.5 2.5l-.94 2.06-2.06.94zm10 10l.94 2.06.94-2.06 2.06-.94-2.06-.94-.94-2.06-.94 2.06-2.06.94z\"/><path d=\"M17.41 7.96l-1.37-1.37c-.4-.4-.92-.59-1.43-.59-.52 0-1.04.2-1.43.59L10.3 9.45l-7.72 7.72c-.78.78-.78 2.05 0 2.83L4 21.41c.39.39.9.59 1.41.59.51 0 1.02-.2 1.41-.59l7.78-7.78 2.81-2.81c.8-.78.8-2.07 0-2.86zM5.41 20L4 18.59l7.72-7.72 1.47 1.35L5.41 20z\"/>\n",
              "  </svg>\n",
              "      </button>\n",
              "      \n",
              "  <style>\n",
              "    .colab-df-container {\n",
              "      display:flex;\n",
              "      flex-wrap:wrap;\n",
              "      gap: 12px;\n",
              "    }\n",
              "\n",
              "    .colab-df-convert {\n",
              "      background-color: #E8F0FE;\n",
              "      border: none;\n",
              "      border-radius: 50%;\n",
              "      cursor: pointer;\n",
              "      display: none;\n",
              "      fill: #1967D2;\n",
              "      height: 32px;\n",
              "      padding: 0 0 0 0;\n",
              "      width: 32px;\n",
              "    }\n",
              "\n",
              "    .colab-df-convert:hover {\n",
              "      background-color: #E2EBFA;\n",
              "      box-shadow: 0px 1px 2px rgba(60, 64, 67, 0.3), 0px 1px 3px 1px rgba(60, 64, 67, 0.15);\n",
              "      fill: #174EA6;\n",
              "    }\n",
              "\n",
              "    [theme=dark] .colab-df-convert {\n",
              "      background-color: #3B4455;\n",
              "      fill: #D2E3FC;\n",
              "    }\n",
              "\n",
              "    [theme=dark] .colab-df-convert:hover {\n",
              "      background-color: #434B5C;\n",
              "      box-shadow: 0px 1px 3px 1px rgba(0, 0, 0, 0.15);\n",
              "      filter: drop-shadow(0px 1px 2px rgba(0, 0, 0, 0.3));\n",
              "      fill: #FFFFFF;\n",
              "    }\n",
              "  </style>\n",
              "\n",
              "      <script>\n",
              "        const buttonEl =\n",
              "          document.querySelector('#df-f600132a-33b5-42f1-8e16-12f092f5f41f button.colab-df-convert');\n",
              "        buttonEl.style.display =\n",
              "          google.colab.kernel.accessAllowed ? 'block' : 'none';\n",
              "\n",
              "        async function convertToInteractive(key) {\n",
              "          const element = document.querySelector('#df-f600132a-33b5-42f1-8e16-12f092f5f41f');\n",
              "          const dataTable =\n",
              "            await google.colab.kernel.invokeFunction('convertToInteractive',\n",
              "                                                     [key], {});\n",
              "          if (!dataTable) return;\n",
              "\n",
              "          const docLinkHtml = 'Like what you see? Visit the ' +\n",
              "            '<a target=\"_blank\" href=https://colab.research.google.com/notebooks/data_table.ipynb>data table notebook</a>'\n",
              "            + ' to learn more about interactive tables.';\n",
              "          element.innerHTML = '';\n",
              "          dataTable['output_type'] = 'display_data';\n",
              "          await google.colab.output.renderOutput(dataTable, element);\n",
              "          const docLink = document.createElement('div');\n",
              "          docLink.innerHTML = docLinkHtml;\n",
              "          element.appendChild(docLink);\n",
              "        }\n",
              "      </script>\n",
              "    </div>\n",
              "  </div>\n",
              "  "
            ]
          },
          "metadata": {},
          "execution_count": 5
        }
      ],
      "source": [
        "# Previsualizacion de los datos\n",
        "FuerzaVtasConv.head(20)"
      ]
    },
    {
      "cell_type": "markdown",
      "source": [
        "Se tiene la informacion de los clientes, estos valores nos permitiran poder determinar las variables de interes, para poder realizar un analisis exploratorio de los datos y asi obtener metricas que permitan mejorar la toma de decisiones en cuanto a la adquisicion de nuevos distribuidores de productos."
      ],
      "metadata": {
        "id": "EIGPQLJN0Cel"
      },
      "id": "EIGPQLJN0Cel"
    },
    {
      "cell_type": "markdown",
      "source": [
        "***Se tiene variables cualitativas dicotomicas y politomicas: en este caso como edad, genero, CasaPropia, Estado Civil, Ubicacion, Historia. Ya que describe los datos por categorías o características sin un orden natural***\n",
        "\n",
        "\n",
        "***Tambien presenta varibles cuantitativas numericas como:Salario, niños, Catalogos, MontoDinero. Que representan una cantidad medible discreta***"
      ],
      "metadata": {
        "id": "af4aLz_v1ihs"
      },
      "id": "af4aLz_v1ihs"
    },
    {
      "cell_type": "markdown",
      "id": "2cdc8da0",
      "metadata": {
        "id": "2cdc8da0"
      },
      "source": [
        "### Analisis de la estructura del dataset\n"
      ]
    },
    {
      "cell_type": "code",
      "execution_count": null,
      "id": "2f3dbf80",
      "metadata": {
        "id": "2f3dbf80",
        "outputId": "960e732c-6584-441c-c502-89a20de22ba3",
        "colab": {
          "base_uri": "https://localhost:8080/"
        }
      },
      "outputs": [
        {
          "output_type": "execute_result",
          "data": {
            "text/plain": [
              "(1000, 10)"
            ]
          },
          "metadata": {},
          "execution_count": 6
        }
      ],
      "source": [
        "# Dimensión de nuestro dataframe, obtenemos la cantidad de filas y columnas\n",
        "FuerzaVtasConv.shape"
      ]
    },
    {
      "cell_type": "markdown",
      "id": "91dba480",
      "metadata": {
        "id": "91dba480"
      },
      "source": [
        "La base de datos tiene ***1000*** registros y **10** variables o columnas. \n",
        "\n"
      ]
    },
    {
      "cell_type": "code",
      "execution_count": null,
      "id": "80cdce2a",
      "metadata": {
        "id": "80cdce2a",
        "outputId": "fbcd5b29-d416-47a6-8622-459acfede913",
        "colab": {
          "base_uri": "https://localhost:8080/"
        }
      },
      "outputs": [
        {
          "output_type": "stream",
          "name": "stdout",
          "text": [
            "<class 'pandas.core.frame.DataFrame'>\n",
            "RangeIndex: 1000 entries, 0 to 999\n",
            "Data columns (total 10 columns):\n",
            " #   Column       Non-Null Count  Dtype \n",
            "---  ------       --------------  ----- \n",
            " 0   Edad         1000 non-null   object\n",
            " 1   Genero       1000 non-null   object\n",
            " 2   CasaPropia   1000 non-null   object\n",
            " 3   EstadoCiv    1000 non-null   object\n",
            " 4   Ubicación    1000 non-null   object\n",
            " 5   Salario      1000 non-null   int64 \n",
            " 6   Niños        1000 non-null   int64 \n",
            " 7   Historia     697 non-null    object\n",
            " 8   Catalogos    1000 non-null   int64 \n",
            " 9   MontoDinero  1000 non-null   int64 \n",
            "dtypes: int64(4), object(6)\n",
            "memory usage: 78.2+ KB\n"
          ]
        }
      ],
      "source": [
        "# Previsualizacon de los datos\n",
        "FuerzaVtasConv.info()"
      ]
    },
    {
      "cell_type": "markdown",
      "id": "10b89c97",
      "metadata": {
        "id": "10b89c97"
      },
      "source": [
        "#### Se realiza algunos resúmenes para describir la naturaleza de los datos"
      ]
    },
    {
      "cell_type": "code",
      "execution_count": null,
      "id": "042c3489",
      "metadata": {
        "id": "042c3489",
        "outputId": "fec92c8d-73d7-4347-85ca-8b9e314c972c",
        "colab": {
          "base_uri": "https://localhost:8080/"
        }
      },
      "outputs": [
        {
          "output_type": "execute_result",
          "data": {
            "text/plain": [
              "Adulto    508\n",
              "Joven     287\n",
              "Mayor     205\n",
              "Name: Edad, dtype: int64"
            ]
          },
          "metadata": {},
          "execution_count": 8
        }
      ],
      "source": [
        "FuerzaVtasConv['Edad'].value_counts()"
      ]
    },
    {
      "cell_type": "code",
      "execution_count": null,
      "id": "6bdba6bd",
      "metadata": {
        "id": "6bdba6bd",
        "outputId": "df218ed7-f6ad-4a02-f433-3ef68dd272e1",
        "colab": {
          "base_uri": "https://localhost:8080/"
        }
      },
      "outputs": [
        {
          "output_type": "execute_result",
          "data": {
            "text/plain": [
              "Mujer     506\n",
              "Hombre    494\n",
              "Name: Genero, dtype: int64"
            ]
          },
          "metadata": {},
          "execution_count": 9
        }
      ],
      "source": [
        "FuerzaVtasConv['Genero'].value_counts()"
      ]
    },
    {
      "cell_type": "code",
      "execution_count": null,
      "id": "e7e75c21",
      "metadata": {
        "id": "e7e75c21",
        "outputId": "dbbb41aa-1d76-44d5-b7c8-a7da8a075acb",
        "colab": {
          "base_uri": "https://localhost:8080/"
        }
      },
      "outputs": [
        {
          "output_type": "execute_result",
          "data": {
            "text/plain": [
              "Propia       516\n",
              "Alquilada    484\n",
              "Name: CasaPropia, dtype: int64"
            ]
          },
          "metadata": {},
          "execution_count": 10
        }
      ],
      "source": [
        "FuerzaVtasConv['CasaPropia'].value_counts()"
      ]
    },
    {
      "cell_type": "code",
      "execution_count": null,
      "id": "16da5ffa",
      "metadata": {
        "id": "16da5ffa",
        "outputId": "cb0df922-2452-4c20-ef1c-d4ec54cba6b8",
        "colab": {
          "base_uri": "https://localhost:8080/"
        }
      },
      "outputs": [
        {
          "output_type": "execute_result",
          "data": {
            "text/plain": [
              "Casado     502\n",
              "Soltero    498\n",
              "Name: EstadoCiv, dtype: int64"
            ]
          },
          "metadata": {},
          "execution_count": 11
        }
      ],
      "source": [
        "FuerzaVtasConv['EstadoCiv'].value_counts()"
      ]
    },
    {
      "cell_type": "code",
      "execution_count": null,
      "id": "2eea369b",
      "metadata": {
        "id": "2eea369b",
        "outputId": "2aa39304-1190-4c8c-b6b7-bf45b5b85cd7",
        "colab": {
          "base_uri": "https://localhost:8080/"
        }
      },
      "outputs": [
        {
          "output_type": "execute_result",
          "data": {
            "text/plain": [
              "Cerca    710\n",
              "Lejos    290\n",
              "Name: Ubicación, dtype: int64"
            ]
          },
          "metadata": {},
          "execution_count": 12
        }
      ],
      "source": [
        "FuerzaVtasConv['Ubicación'].value_counts()"
      ]
    },
    {
      "cell_type": "code",
      "execution_count": null,
      "id": "4b922909",
      "metadata": {
        "id": "4b922909",
        "outputId": "ef0ee26a-b345-4487-8916-47b4ebcb6555",
        "colab": {
          "base_uri": "https://localhost:8080/"
        }
      },
      "outputs": [
        {
          "output_type": "execute_result",
          "data": {
            "text/plain": [
              "Alta     255\n",
              "Baja     230\n",
              "Media    212\n",
              "Name: Historia, dtype: int64"
            ]
          },
          "metadata": {},
          "execution_count": 13
        }
      ],
      "source": [
        "FuerzaVtasConv['Historia'].value_counts()"
      ]
    },
    {
      "cell_type": "code",
      "execution_count": null,
      "id": "f5ac620b",
      "metadata": {
        "id": "f5ac620b",
        "outputId": "2e12242f-97cb-4bec-9766-4019100862d9",
        "colab": {
          "base_uri": "https://localhost:8080/",
          "height": 300
        }
      },
      "outputs": [
        {
          "output_type": "execute_result",
          "data": {
            "text/plain": [
              "             Salario       Niños    Catalogos  MontoDinero\n",
              "count    1000.000000  1000.00000  1000.000000  1000.000000\n",
              "mean    56103.900000     0.93400    14.682000  1216.770000\n",
              "std     30616.314826     1.05107     6.622895   961.068613\n",
              "min     10100.000000     0.00000     6.000000    38.000000\n",
              "25%     29975.000000     0.00000     6.000000   488.250000\n",
              "50%     53700.000000     1.00000    12.000000   962.000000\n",
              "75%     77025.000000     2.00000    18.000000  1688.500000\n",
              "max    168800.000000     3.00000    24.000000  6217.000000"
            ],
            "text/html": [
              "\n",
              "  <div id=\"df-650f8eff-b3a9-4705-9b54-a7a4de60165c\">\n",
              "    <div class=\"colab-df-container\">\n",
              "      <div>\n",
              "<style scoped>\n",
              "    .dataframe tbody tr th:only-of-type {\n",
              "        vertical-align: middle;\n",
              "    }\n",
              "\n",
              "    .dataframe tbody tr th {\n",
              "        vertical-align: top;\n",
              "    }\n",
              "\n",
              "    .dataframe thead th {\n",
              "        text-align: right;\n",
              "    }\n",
              "</style>\n",
              "<table border=\"1\" class=\"dataframe\">\n",
              "  <thead>\n",
              "    <tr style=\"text-align: right;\">\n",
              "      <th></th>\n",
              "      <th>Salario</th>\n",
              "      <th>Niños</th>\n",
              "      <th>Catalogos</th>\n",
              "      <th>MontoDinero</th>\n",
              "    </tr>\n",
              "  </thead>\n",
              "  <tbody>\n",
              "    <tr>\n",
              "      <th>count</th>\n",
              "      <td>1000.000000</td>\n",
              "      <td>1000.00000</td>\n",
              "      <td>1000.000000</td>\n",
              "      <td>1000.000000</td>\n",
              "    </tr>\n",
              "    <tr>\n",
              "      <th>mean</th>\n",
              "      <td>56103.900000</td>\n",
              "      <td>0.93400</td>\n",
              "      <td>14.682000</td>\n",
              "      <td>1216.770000</td>\n",
              "    </tr>\n",
              "    <tr>\n",
              "      <th>std</th>\n",
              "      <td>30616.314826</td>\n",
              "      <td>1.05107</td>\n",
              "      <td>6.622895</td>\n",
              "      <td>961.068613</td>\n",
              "    </tr>\n",
              "    <tr>\n",
              "      <th>min</th>\n",
              "      <td>10100.000000</td>\n",
              "      <td>0.00000</td>\n",
              "      <td>6.000000</td>\n",
              "      <td>38.000000</td>\n",
              "    </tr>\n",
              "    <tr>\n",
              "      <th>25%</th>\n",
              "      <td>29975.000000</td>\n",
              "      <td>0.00000</td>\n",
              "      <td>6.000000</td>\n",
              "      <td>488.250000</td>\n",
              "    </tr>\n",
              "    <tr>\n",
              "      <th>50%</th>\n",
              "      <td>53700.000000</td>\n",
              "      <td>1.00000</td>\n",
              "      <td>12.000000</td>\n",
              "      <td>962.000000</td>\n",
              "    </tr>\n",
              "    <tr>\n",
              "      <th>75%</th>\n",
              "      <td>77025.000000</td>\n",
              "      <td>2.00000</td>\n",
              "      <td>18.000000</td>\n",
              "      <td>1688.500000</td>\n",
              "    </tr>\n",
              "    <tr>\n",
              "      <th>max</th>\n",
              "      <td>168800.000000</td>\n",
              "      <td>3.00000</td>\n",
              "      <td>24.000000</td>\n",
              "      <td>6217.000000</td>\n",
              "    </tr>\n",
              "  </tbody>\n",
              "</table>\n",
              "</div>\n",
              "      <button class=\"colab-df-convert\" onclick=\"convertToInteractive('df-650f8eff-b3a9-4705-9b54-a7a4de60165c')\"\n",
              "              title=\"Convert this dataframe to an interactive table.\"\n",
              "              style=\"display:none;\">\n",
              "        \n",
              "  <svg xmlns=\"http://www.w3.org/2000/svg\" height=\"24px\"viewBox=\"0 0 24 24\"\n",
              "       width=\"24px\">\n",
              "    <path d=\"M0 0h24v24H0V0z\" fill=\"none\"/>\n",
              "    <path d=\"M18.56 5.44l.94 2.06.94-2.06 2.06-.94-2.06-.94-.94-2.06-.94 2.06-2.06.94zm-11 1L8.5 8.5l.94-2.06 2.06-.94-2.06-.94L8.5 2.5l-.94 2.06-2.06.94zm10 10l.94 2.06.94-2.06 2.06-.94-2.06-.94-.94-2.06-.94 2.06-2.06.94z\"/><path d=\"M17.41 7.96l-1.37-1.37c-.4-.4-.92-.59-1.43-.59-.52 0-1.04.2-1.43.59L10.3 9.45l-7.72 7.72c-.78.78-.78 2.05 0 2.83L4 21.41c.39.39.9.59 1.41.59.51 0 1.02-.2 1.41-.59l7.78-7.78 2.81-2.81c.8-.78.8-2.07 0-2.86zM5.41 20L4 18.59l7.72-7.72 1.47 1.35L5.41 20z\"/>\n",
              "  </svg>\n",
              "      </button>\n",
              "      \n",
              "  <style>\n",
              "    .colab-df-container {\n",
              "      display:flex;\n",
              "      flex-wrap:wrap;\n",
              "      gap: 12px;\n",
              "    }\n",
              "\n",
              "    .colab-df-convert {\n",
              "      background-color: #E8F0FE;\n",
              "      border: none;\n",
              "      border-radius: 50%;\n",
              "      cursor: pointer;\n",
              "      display: none;\n",
              "      fill: #1967D2;\n",
              "      height: 32px;\n",
              "      padding: 0 0 0 0;\n",
              "      width: 32px;\n",
              "    }\n",
              "\n",
              "    .colab-df-convert:hover {\n",
              "      background-color: #E2EBFA;\n",
              "      box-shadow: 0px 1px 2px rgba(60, 64, 67, 0.3), 0px 1px 3px 1px rgba(60, 64, 67, 0.15);\n",
              "      fill: #174EA6;\n",
              "    }\n",
              "\n",
              "    [theme=dark] .colab-df-convert {\n",
              "      background-color: #3B4455;\n",
              "      fill: #D2E3FC;\n",
              "    }\n",
              "\n",
              "    [theme=dark] .colab-df-convert:hover {\n",
              "      background-color: #434B5C;\n",
              "      box-shadow: 0px 1px 3px 1px rgba(0, 0, 0, 0.15);\n",
              "      filter: drop-shadow(0px 1px 2px rgba(0, 0, 0, 0.3));\n",
              "      fill: #FFFFFF;\n",
              "    }\n",
              "  </style>\n",
              "\n",
              "      <script>\n",
              "        const buttonEl =\n",
              "          document.querySelector('#df-650f8eff-b3a9-4705-9b54-a7a4de60165c button.colab-df-convert');\n",
              "        buttonEl.style.display =\n",
              "          google.colab.kernel.accessAllowed ? 'block' : 'none';\n",
              "\n",
              "        async function convertToInteractive(key) {\n",
              "          const element = document.querySelector('#df-650f8eff-b3a9-4705-9b54-a7a4de60165c');\n",
              "          const dataTable =\n",
              "            await google.colab.kernel.invokeFunction('convertToInteractive',\n",
              "                                                     [key], {});\n",
              "          if (!dataTable) return;\n",
              "\n",
              "          const docLinkHtml = 'Like what you see? Visit the ' +\n",
              "            '<a target=\"_blank\" href=https://colab.research.google.com/notebooks/data_table.ipynb>data table notebook</a>'\n",
              "            + ' to learn more about interactive tables.';\n",
              "          element.innerHTML = '';\n",
              "          dataTable['output_type'] = 'display_data';\n",
              "          await google.colab.output.renderOutput(dataTable, element);\n",
              "          const docLink = document.createElement('div');\n",
              "          docLink.innerHTML = docLinkHtml;\n",
              "          element.appendChild(docLink);\n",
              "        }\n",
              "      </script>\n",
              "    </div>\n",
              "  </div>\n",
              "  "
            ]
          },
          "metadata": {},
          "execution_count": 14
        }
      ],
      "source": [
        "FuerzaVtasConv.describe()"
      ]
    },
    {
      "cell_type": "markdown",
      "id": "32eceb71",
      "metadata": {
        "id": "32eceb71"
      },
      "source": [
        "**Con esta primera vista de los datos, se identifica el tipo de variables que se utilizan en el problema de negocio:**\n",
        "\n",
        "**- Edad:** Es una variable categórica (con niveles de variable: Joven, Adulto y Mayor). Podemos decir que es una variable categórica de tipo ordinal. \n",
        "\n",
        "**- Género:** Es una variable categórica (con niveles de variable: Hombre y Mujer). Podemos decir que es una variable categórica de tipo nominal.\n",
        "\n",
        "**- Casa Propia:** Es una variable categorica que cuentan con 2 categorias ordinales: Propia y Alquilada.\n",
        "\n",
        "**- Estado Civil:** Es una variable categorica que cuentan con 2 categorias nominales Soltero y Casado en cuanto a su estado civil\n",
        "\n",
        "**- Ubicación:** Es una variable categorica que cuentan con 2 categorias nominales: Lejos y Cerca en cuanto a la ubicacion del cliente.\n",
        "\n",
        "**- Salario:** Es una variable cuantitativa discreta\n",
        "\n",
        "**- Niños:** Es una variable cuantitativa discreta\n",
        "\n",
        "**- Historia:** Es una variable categorica cualitativa ordinal con 3 categorias (Alta, Media, Baja).\n",
        "\n",
        "**- Catálogos:** Es una variable cuantitativa discreta\n",
        "\n",
        "**- MontoDinero:** Es una variable cuantitativa discreta"
      ]
    },
    {
      "cell_type": "markdown",
      "id": "8fe1694d",
      "metadata": {
        "id": "8fe1694d"
      },
      "source": [
        "####**Se ha descubierto que el campo Historia tenía datos nulos.**"
      ]
    },
    {
      "cell_type": "markdown",
      "id": "d7738729",
      "metadata": {
        "id": "d7738729"
      },
      "source": [
        "Tal como se describió en la pregunta 1 y se hizo un pequeño resumen variable por variable para ver su naturaleza, descubrimos que el campo Historia tenía datos nulos."
      ]
    },
    {
      "cell_type": "code",
      "execution_count": null,
      "id": "2c546966",
      "metadata": {
        "id": "2c546966",
        "outputId": "da21880f-7c96-40a1-aa65-9494422268e6",
        "colab": {
          "base_uri": "https://localhost:8080/"
        }
      },
      "outputs": [
        {
          "output_type": "stream",
          "name": "stdout",
          "text": [
            "Edad             0\n",
            "Genero           0\n",
            "CasaPropia       0\n",
            "EstadoCiv        0\n",
            "Ubicación        0\n",
            "Salario          0\n",
            "Niños            0\n",
            "Historia       303\n",
            "Catalogos        0\n",
            "MontoDinero      0\n",
            "dtype: int64\n"
          ]
        }
      ],
      "source": [
        "## Columnas con valores nulos\n",
        "print(FuerzaVtasConv.isnull().sum())"
      ]
    },
    {
      "cell_type": "markdown",
      "id": "7ac9c3e7",
      "metadata": {
        "id": "7ac9c3e7"
      },
      "source": [
        "El campo \"Historia\" tiene **30.3% de registros nulos**. Como es grande la cantidad de registros faltantes y eliminar el 30% de la base de datos sería mucha pérdida de información con respecto a las otras 9 variables, lo que podemos hacer es generar una etiqueta que diga **\"No cuenta con Historia\"**."
      ]
    },
    {
      "cell_type": "code",
      "execution_count": null,
      "id": "00f782dd",
      "metadata": {
        "colab": {
          "base_uri": "https://localhost:8080/"
        },
        "id": "00f782dd",
        "outputId": "0cd48088-a890-463e-8265-8c42a6ec464c"
      },
      "outputs": [
        {
          "output_type": "execute_result",
          "data": {
            "text/plain": [
              "1000"
            ]
          },
          "metadata": {},
          "execution_count": 22
        }
      ],
      "source": [
        "# Se verifica la frecuencia de la variable historia (sólo se tiene 697 datos válidos)\n",
        "FuerzaVtasConv['Historia'].count()"
      ]
    },
    {
      "cell_type": "code",
      "execution_count": null,
      "id": "84765b80",
      "metadata": {
        "id": "84765b80"
      },
      "outputs": [],
      "source": [
        "# Se transforma los registros nulos con una nueva etiqueta.\n",
        "FuerzaVtasConv.loc[FuerzaVtasConv['Historia'].isnull() == True, 'Historia'] = 'No cuenta con Historia'"
      ]
    },
    {
      "cell_type": "code",
      "execution_count": null,
      "id": "95df1191",
      "metadata": {
        "id": "95df1191",
        "outputId": "a21fd336-b821-4fa9-aae8-c90db8b22a58",
        "colab": {
          "base_uri": "https://localhost:8080/"
        }
      },
      "outputs": [
        {
          "output_type": "execute_result",
          "data": {
            "text/plain": [
              "No cuenta con Historia    303\n",
              "Alta                      255\n",
              "Baja                      230\n",
              "Media                     212\n",
              "Name: Historia, dtype: int64"
            ]
          },
          "metadata": {},
          "execution_count": 18
        }
      ],
      "source": [
        "# Se verifica nuevamente la frecuencia de la variable historia (ahora tenemos los 1000 datos válidos y completos)\n",
        "FuerzaVtasConv['Historia'].value_counts()"
      ]
    },
    {
      "cell_type": "markdown",
      "id": "1a75fc06",
      "metadata": {
        "id": "1a75fc06"
      },
      "source": [
        "####**Resumen global del total de variables de estudio**"
      ]
    },
    {
      "cell_type": "code",
      "execution_count": null,
      "id": "27434ed3",
      "metadata": {
        "id": "27434ed3",
        "outputId": "9152729e-05a8-4f46-f82a-b19e1869460e",
        "colab": {
          "base_uri": "https://localhost:8080/"
        }
      },
      "outputs": [
        {
          "output_type": "stream",
          "name": "stdout",
          "text": [
            "<class 'pandas.core.frame.DataFrame'>\n",
            "RangeIndex: 1000 entries, 0 to 999\n",
            "Data columns (total 10 columns):\n",
            " #   Column       Non-Null Count  Dtype \n",
            "---  ------       --------------  ----- \n",
            " 0   Edad         1000 non-null   object\n",
            " 1   Genero       1000 non-null   object\n",
            " 2   CasaPropia   1000 non-null   object\n",
            " 3   EstadoCiv    1000 non-null   object\n",
            " 4   Ubicación    1000 non-null   object\n",
            " 5   Salario      1000 non-null   int64 \n",
            " 6   Niños        1000 non-null   int64 \n",
            " 7   Historia     1000 non-null   object\n",
            " 8   Catalogos    1000 non-null   int64 \n",
            " 9   MontoDinero  1000 non-null   int64 \n",
            "dtypes: int64(4), object(6)\n",
            "memory usage: 78.2+ KB\n"
          ]
        }
      ],
      "source": [
        "# Observamos que tenemos variables Categóricas y Numéricas\n",
        "FuerzaVtasConv.info()"
      ]
    },
    {
      "cell_type": "code",
      "source": [
        "FuerzaVtasConv.describe()"
      ],
      "metadata": {
        "colab": {
          "base_uri": "https://localhost:8080/",
          "height": 300
        },
        "id": "19UTh2KmYTc1",
        "outputId": "87d05ea6-492a-4ab3-b387-53008c0e21ca"
      },
      "id": "19UTh2KmYTc1",
      "execution_count": null,
      "outputs": [
        {
          "output_type": "execute_result",
          "data": {
            "text/plain": [
              "             Salario       Niños    Catalogos  MontoDinero\n",
              "count    1000.000000  1000.00000  1000.000000  1000.000000\n",
              "mean    56103.900000     0.93400    14.682000  1216.770000\n",
              "std     30616.314826     1.05107     6.622895   961.068613\n",
              "min     10100.000000     0.00000     6.000000    38.000000\n",
              "25%     29975.000000     0.00000     6.000000   488.250000\n",
              "50%     53700.000000     1.00000    12.000000   962.000000\n",
              "75%     77025.000000     2.00000    18.000000  1688.500000\n",
              "max    168800.000000     3.00000    24.000000  6217.000000"
            ],
            "text/html": [
              "\n",
              "  <div id=\"df-b2f9d01d-b6e4-4989-85d8-ca3170f884cd\">\n",
              "    <div class=\"colab-df-container\">\n",
              "      <div>\n",
              "<style scoped>\n",
              "    .dataframe tbody tr th:only-of-type {\n",
              "        vertical-align: middle;\n",
              "    }\n",
              "\n",
              "    .dataframe tbody tr th {\n",
              "        vertical-align: top;\n",
              "    }\n",
              "\n",
              "    .dataframe thead th {\n",
              "        text-align: right;\n",
              "    }\n",
              "</style>\n",
              "<table border=\"1\" class=\"dataframe\">\n",
              "  <thead>\n",
              "    <tr style=\"text-align: right;\">\n",
              "      <th></th>\n",
              "      <th>Salario</th>\n",
              "      <th>Niños</th>\n",
              "      <th>Catalogos</th>\n",
              "      <th>MontoDinero</th>\n",
              "    </tr>\n",
              "  </thead>\n",
              "  <tbody>\n",
              "    <tr>\n",
              "      <th>count</th>\n",
              "      <td>1000.000000</td>\n",
              "      <td>1000.00000</td>\n",
              "      <td>1000.000000</td>\n",
              "      <td>1000.000000</td>\n",
              "    </tr>\n",
              "    <tr>\n",
              "      <th>mean</th>\n",
              "      <td>56103.900000</td>\n",
              "      <td>0.93400</td>\n",
              "      <td>14.682000</td>\n",
              "      <td>1216.770000</td>\n",
              "    </tr>\n",
              "    <tr>\n",
              "      <th>std</th>\n",
              "      <td>30616.314826</td>\n",
              "      <td>1.05107</td>\n",
              "      <td>6.622895</td>\n",
              "      <td>961.068613</td>\n",
              "    </tr>\n",
              "    <tr>\n",
              "      <th>min</th>\n",
              "      <td>10100.000000</td>\n",
              "      <td>0.00000</td>\n",
              "      <td>6.000000</td>\n",
              "      <td>38.000000</td>\n",
              "    </tr>\n",
              "    <tr>\n",
              "      <th>25%</th>\n",
              "      <td>29975.000000</td>\n",
              "      <td>0.00000</td>\n",
              "      <td>6.000000</td>\n",
              "      <td>488.250000</td>\n",
              "    </tr>\n",
              "    <tr>\n",
              "      <th>50%</th>\n",
              "      <td>53700.000000</td>\n",
              "      <td>1.00000</td>\n",
              "      <td>12.000000</td>\n",
              "      <td>962.000000</td>\n",
              "    </tr>\n",
              "    <tr>\n",
              "      <th>75%</th>\n",
              "      <td>77025.000000</td>\n",
              "      <td>2.00000</td>\n",
              "      <td>18.000000</td>\n",
              "      <td>1688.500000</td>\n",
              "    </tr>\n",
              "    <tr>\n",
              "      <th>max</th>\n",
              "      <td>168800.000000</td>\n",
              "      <td>3.00000</td>\n",
              "      <td>24.000000</td>\n",
              "      <td>6217.000000</td>\n",
              "    </tr>\n",
              "  </tbody>\n",
              "</table>\n",
              "</div>\n",
              "      <button class=\"colab-df-convert\" onclick=\"convertToInteractive('df-b2f9d01d-b6e4-4989-85d8-ca3170f884cd')\"\n",
              "              title=\"Convert this dataframe to an interactive table.\"\n",
              "              style=\"display:none;\">\n",
              "        \n",
              "  <svg xmlns=\"http://www.w3.org/2000/svg\" height=\"24px\"viewBox=\"0 0 24 24\"\n",
              "       width=\"24px\">\n",
              "    <path d=\"M0 0h24v24H0V0z\" fill=\"none\"/>\n",
              "    <path d=\"M18.56 5.44l.94 2.06.94-2.06 2.06-.94-2.06-.94-.94-2.06-.94 2.06-2.06.94zm-11 1L8.5 8.5l.94-2.06 2.06-.94-2.06-.94L8.5 2.5l-.94 2.06-2.06.94zm10 10l.94 2.06.94-2.06 2.06-.94-2.06-.94-.94-2.06-.94 2.06-2.06.94z\"/><path d=\"M17.41 7.96l-1.37-1.37c-.4-.4-.92-.59-1.43-.59-.52 0-1.04.2-1.43.59L10.3 9.45l-7.72 7.72c-.78.78-.78 2.05 0 2.83L4 21.41c.39.39.9.59 1.41.59.51 0 1.02-.2 1.41-.59l7.78-7.78 2.81-2.81c.8-.78.8-2.07 0-2.86zM5.41 20L4 18.59l7.72-7.72 1.47 1.35L5.41 20z\"/>\n",
              "  </svg>\n",
              "      </button>\n",
              "      \n",
              "  <style>\n",
              "    .colab-df-container {\n",
              "      display:flex;\n",
              "      flex-wrap:wrap;\n",
              "      gap: 12px;\n",
              "    }\n",
              "\n",
              "    .colab-df-convert {\n",
              "      background-color: #E8F0FE;\n",
              "      border: none;\n",
              "      border-radius: 50%;\n",
              "      cursor: pointer;\n",
              "      display: none;\n",
              "      fill: #1967D2;\n",
              "      height: 32px;\n",
              "      padding: 0 0 0 0;\n",
              "      width: 32px;\n",
              "    }\n",
              "\n",
              "    .colab-df-convert:hover {\n",
              "      background-color: #E2EBFA;\n",
              "      box-shadow: 0px 1px 2px rgba(60, 64, 67, 0.3), 0px 1px 3px 1px rgba(60, 64, 67, 0.15);\n",
              "      fill: #174EA6;\n",
              "    }\n",
              "\n",
              "    [theme=dark] .colab-df-convert {\n",
              "      background-color: #3B4455;\n",
              "      fill: #D2E3FC;\n",
              "    }\n",
              "\n",
              "    [theme=dark] .colab-df-convert:hover {\n",
              "      background-color: #434B5C;\n",
              "      box-shadow: 0px 1px 3px 1px rgba(0, 0, 0, 0.15);\n",
              "      filter: drop-shadow(0px 1px 2px rgba(0, 0, 0, 0.3));\n",
              "      fill: #FFFFFF;\n",
              "    }\n",
              "  </style>\n",
              "\n",
              "      <script>\n",
              "        const buttonEl =\n",
              "          document.querySelector('#df-b2f9d01d-b6e4-4989-85d8-ca3170f884cd button.colab-df-convert');\n",
              "        buttonEl.style.display =\n",
              "          google.colab.kernel.accessAllowed ? 'block' : 'none';\n",
              "\n",
              "        async function convertToInteractive(key) {\n",
              "          const element = document.querySelector('#df-b2f9d01d-b6e4-4989-85d8-ca3170f884cd');\n",
              "          const dataTable =\n",
              "            await google.colab.kernel.invokeFunction('convertToInteractive',\n",
              "                                                     [key], {});\n",
              "          if (!dataTable) return;\n",
              "\n",
              "          const docLinkHtml = 'Like what you see? Visit the ' +\n",
              "            '<a target=\"_blank\" href=https://colab.research.google.com/notebooks/data_table.ipynb>data table notebook</a>'\n",
              "            + ' to learn more about interactive tables.';\n",
              "          element.innerHTML = '';\n",
              "          dataTable['output_type'] = 'display_data';\n",
              "          await google.colab.output.renderOutput(dataTable, element);\n",
              "          const docLink = document.createElement('div');\n",
              "          docLink.innerHTML = docLinkHtml;\n",
              "          element.appendChild(docLink);\n",
              "        }\n",
              "      </script>\n",
              "    </div>\n",
              "  </div>\n",
              "  "
            ]
          },
          "metadata": {},
          "execution_count": 24
        }
      ]
    },
    {
      "cell_type": "code",
      "execution_count": null,
      "id": "5a6e2cd5",
      "metadata": {
        "id": "5a6e2cd5"
      },
      "outputs": [],
      "source": [
        "# Importamos la librería matplotlib y seaborn para graficar\n",
        "import matplotlib.pyplot as plt\n",
        "import seaborn as sns"
      ]
    },
    {
      "cell_type": "markdown",
      "id": "05f8a938",
      "metadata": {
        "id": "05f8a938"
      },
      "source": [
        "\n",
        "### **Analizando las Variables Categóricas y Numéricas**"
      ]
    },
    {
      "cell_type": "markdown",
      "id": "016ceba1",
      "metadata": {
        "id": "016ceba1"
      },
      "source": [
        "### A. Variables Categóricas"
      ]
    },
    {
      "cell_type": "markdown",
      "id": "065baed2",
      "metadata": {
        "id": "065baed2"
      },
      "source": [
        "#### 1. Edad"
      ]
    },
    {
      "cell_type": "code",
      "execution_count": null,
      "id": "2a7dad7c",
      "metadata": {
        "id": "2a7dad7c",
        "outputId": "59c393e1-ff3f-499d-e970-85eb9d535d21",
        "colab": {
          "base_uri": "https://localhost:8080/",
          "height": 497
        }
      },
      "outputs": [
        {
          "output_type": "display_data",
          "data": {
            "text/plain": [
              "<Figure size 720x576 with 1 Axes>"
            ],
            "image/png": "[encoded data removed]"
          },
          "metadata": {
            "needs_background": "light"
          }
        }
      ],
      "source": [
        "# Gráfico de Barras\n",
        "plt.figure(figsize=(10,8))\n",
        "sns.countplot(x='Edad', data = FuerzaVtasConv)\n",
        "plt.show();"
      ]
    },
    {
      "cell_type": "code",
      "execution_count": null,
      "id": "e9d011bd",
      "metadata": {
        "id": "e9d011bd",
        "outputId": "6ede5ddc-a75f-4c25-e4ea-b644e632c4bc",
        "colab": {
          "base_uri": "https://localhost:8080/"
        }
      },
      "outputs": [
        {
          "output_type": "stream",
          "name": "stdout",
          "text": [
            "Adulto    508\n",
            "Joven     287\n",
            "Mayor     205\n",
            "Name: Edad, dtype: int64\n",
            "Adulto    50.8\n",
            "Joven     28.7\n",
            "Mayor     20.5\n",
            "Name: Edad, dtype: float64\n"
          ]
        }
      ],
      "source": [
        "print(FuerzaVtasConv.Edad.value_counts())\n",
        "print(FuerzaVtasConv.Edad.value_counts(normalize = True)*100)"
      ]
    },
    {
      "cell_type": "markdown",
      "id": "d98c1904",
      "metadata": {
        "id": "d98c1904"
      },
      "source": [
        "- El **20.5% (205) de registros son personas mayores** de la Fuerza de Ventas.\n",
        "\n",
        "- El **50.8% (508) de registros son personas adultas** de la Fuerza de Ventas.\n",
        "\n",
        "- El **28.7% (287) de registros son personas jovenes** de la Fuerza de Ventas. **\n",
        "\n",
        "***Como conclusión, podemos decir que un poco mas de la mitad de clientes son personas mayores que aportan en la fuerza de ventas, a su vez el 28% son jovenes y el cerca del 20% son personas adultas con el porcentaje mas bajo.***"
      ]
    },
    {
      "cell_type": "markdown",
      "id": "ca94678d",
      "metadata": {
        "id": "ca94678d"
      },
      "source": [
        "#### 2. Género"
      ]
    },
    {
      "cell_type": "code",
      "execution_count": null,
      "id": "64c12db0",
      "metadata": {
        "id": "64c12db0",
        "outputId": "cae8e2f6-9512-40ea-9bac-8d292b4fc6a3",
        "colab": {
          "base_uri": "https://localhost:8080/",
          "height": 497
        }
      },
      "outputs": [
        {
          "output_type": "display_data",
          "data": {
            "text/plain": [
              "<Figure size 720x576 with 1 Axes>"
            ],
            "image/png": "[encoded data removed]"
          },
          "metadata": {
            "needs_background": "light"
          }
        }
      ],
      "source": [
        "# Gráfico de Barras\n",
        "plt.figure(figsize=(10,8))\n",
        "sns.countplot(x='Genero', data = FuerzaVtasConv)\n",
        "plt.show();"
      ]
    },
    {
      "cell_type": "code",
      "execution_count": null,
      "id": "d48501e8",
      "metadata": {
        "id": "d48501e8",
        "outputId": "ccafba9a-7af2-4043-ce53-0939e79e0d7c",
        "colab": {
          "base_uri": "https://localhost:8080/"
        }
      },
      "outputs": [
        {
          "output_type": "stream",
          "name": "stdout",
          "text": [
            "Mujer     506\n",
            "Hombre    494\n",
            "Name: Genero, dtype: int64\n",
            "Mujer     50.6\n",
            "Hombre    49.4\n",
            "Name: Genero, dtype: float64\n"
          ]
        }
      ],
      "source": [
        "print(FuerzaVtasConv.Genero.value_counts())\n",
        "print(FuerzaVtasConv.Genero.value_counts(normalize = True)*100)"
      ]
    },
    {
      "cell_type": "markdown",
      "id": "178f0d7b",
      "metadata": {
        "id": "178f0d7b"
      },
      "source": [
        "- El **50.6% (506) de registros son de personas son Mujeres** de la Fuerza de Ventas.\n",
        "\n",
        "- El **49.4% (494) de registros de personas son de Hombres** de la Fuerza de Ventas.\n",
        "\n",
        "***Como conclusión, podemos decir que La mayor cantitdad de fuerza de ventas es realizada por Mujeres con mas del 50%***"
      ]
    },
    {
      "cell_type": "markdown",
      "id": "aa13f06f",
      "metadata": {
        "id": "aa13f06f"
      },
      "source": [
        "#### 3. Casa Propia"
      ]
    },
    {
      "cell_type": "code",
      "execution_count": null,
      "id": "b9f62f77",
      "metadata": {
        "id": "b9f62f77",
        "outputId": "b0be7dda-bfd2-486b-c5a9-0a06b496ca7f",
        "colab": {
          "base_uri": "https://localhost:8080/",
          "height": 497
        }
      },
      "outputs": [
        {
          "output_type": "display_data",
          "data": {
            "text/plain": [
              "<Figure size 720x576 with 1 Axes>"
            ],
            "image/png": "[encoded data removed]"
          },
          "metadata": {
            "needs_background": "light"
          }
        }
      ],
      "source": [
        "# Gráfico de Barras\n",
        "plt.figure(figsize=(10,8))\n",
        "sns.countplot(x='CasaPropia', data = FuerzaVtasConv)\n",
        "plt.show();"
      ]
    },
    {
      "cell_type": "code",
      "execution_count": null,
      "id": "f4770b3d",
      "metadata": {
        "id": "f4770b3d",
        "outputId": "c45978c7-1678-42af-9d08-88cb06900909",
        "colab": {
          "base_uri": "https://localhost:8080/"
        }
      },
      "outputs": [
        {
          "output_type": "stream",
          "name": "stdout",
          "text": [
            "Propia       516\n",
            "Alquilada    484\n",
            "Name: CasaPropia, dtype: int64\n",
            "Propia       51.6\n",
            "Alquilada    48.4\n",
            "Name: CasaPropia, dtype: float64\n"
          ]
        }
      ],
      "source": [
        "print(FuerzaVtasConv.CasaPropia.value_counts())\n",
        "print(FuerzaVtasConv.CasaPropia.value_counts(normalize = True)*100)"
      ]
    },
    {
      "cell_type": "markdown",
      "id": "71d895fd",
      "metadata": {
        "id": "71d895fd"
      },
      "source": [
        "- El **51.6% (516) de personas tiene casa Propia**.\n",
        "\n",
        "- El **48.4% (484) de personas tiene casa Alquilada**.\n",
        "\n",
        "Como conclusión, podemos ver que **poco más de la mitad de la base de personas de la fuerza de ventas tiene casa Propia**, y los demás tienen casa Alquilada."
      ]
    },
    {
      "cell_type": "markdown",
      "id": "46f0b0ef",
      "metadata": {
        "id": "46f0b0ef"
      },
      "source": [
        "#### 4. Estado Civil"
      ]
    },
    {
      "cell_type": "code",
      "execution_count": null,
      "id": "36accc06",
      "metadata": {
        "id": "36accc06",
        "outputId": "2ecc4c3f-8dbb-459a-f1d2-59dd0b51114a",
        "colab": {
          "base_uri": "https://localhost:8080/",
          "height": 497
        }
      },
      "outputs": [
        {
          "output_type": "display_data",
          "data": {
            "text/plain": [
              "<Figure size 720x576 with 1 Axes>"
            ],
            "image/png": "[encoded data removed]"
          },
          "metadata": {
            "needs_background": "light"
          }
        }
      ],
      "source": [
        "# Gráfico de Barras\n",
        "plt.figure(figsize=(10,8))\n",
        "sns.countplot(x='EstadoCiv', data = FuerzaVtasConv)\n",
        "plt.show();"
      ]
    },
    {
      "cell_type": "code",
      "execution_count": null,
      "id": "4047384d",
      "metadata": {
        "id": "4047384d",
        "outputId": "b29c7fa3-1175-4b22-f184-59334ef92e32",
        "colab": {
          "base_uri": "https://localhost:8080/"
        }
      },
      "outputs": [
        {
          "output_type": "stream",
          "name": "stdout",
          "text": [
            "Casado     502\n",
            "Soltero    498\n",
            "Name: EstadoCiv, dtype: int64\n",
            "Casado     50.2\n",
            "Soltero    49.8\n",
            "Name: EstadoCiv, dtype: float64\n"
          ]
        }
      ],
      "source": [
        "print(FuerzaVtasConv.EstadoCiv.value_counts())\n",
        "print(FuerzaVtasConv.EstadoCiv.value_counts(normalize = True)*100)"
      ]
    },
    {
      "cell_type": "markdown",
      "id": "450f8561",
      "metadata": {
        "id": "450f8561"
      },
      "source": [
        "- El **50.2% (502) de registros son personas casadas** de la Fuerza de Ventas.\n",
        "\n",
        "- El **49.8% (498) de registros son personas solteras** de la Fuerza de Ventas.\n",
        "\n",
        "Como conclusión, podemos ver que **la mitad de la base de personas de la fuerza de ventas son casadas** y la otra mitad son personas solteras."
      ]
    },
    {
      "cell_type": "markdown",
      "id": "95bdf049",
      "metadata": {
        "id": "95bdf049"
      },
      "source": [
        "#### 5. Ubicación"
      ]
    },
    {
      "cell_type": "code",
      "execution_count": null,
      "id": "f9953dc7",
      "metadata": {
        "scrolled": false,
        "id": "f9953dc7",
        "outputId": "c9747d02-40ae-4a11-eb0d-6a8f3f8c7e1c",
        "colab": {
          "base_uri": "https://localhost:8080/",
          "height": 497
        }
      },
      "outputs": [
        {
          "output_type": "display_data",
          "data": {
            "text/plain": [
              "<Figure size 720x576 with 1 Axes>"
            ],
            "image/png": "[encoded data removed]"
          },
          "metadata": {
            "needs_background": "light"
          }
        }
      ],
      "source": [
        "# Gráfico de Barras\n",
        "plt.figure(figsize=(10,8))\n",
        "sns.countplot(x='Ubicación', data = FuerzaVtasConv)\n",
        "plt.show();"
      ]
    },
    {
      "cell_type": "code",
      "execution_count": null,
      "id": "e0903bbd",
      "metadata": {
        "id": "e0903bbd",
        "outputId": "e59d72a9-7f91-4b00-8840-f12aa2677a2c",
        "colab": {
          "base_uri": "https://localhost:8080/"
        }
      },
      "outputs": [
        {
          "output_type": "stream",
          "name": "stdout",
          "text": [
            "Cerca    710\n",
            "Lejos    290\n",
            "Name: Ubicación, dtype: int64\n",
            "Cerca    71.0\n",
            "Lejos    29.0\n",
            "Name: Ubicación, dtype: float64\n"
          ]
        }
      ],
      "source": [
        "print(FuerzaVtasConv.Ubicación.value_counts())\n",
        "print(FuerzaVtasConv.Ubicación.value_counts(normalize = True)*100)"
      ]
    },
    {
      "cell_type": "markdown",
      "id": "8f1e4940",
      "metadata": {
        "id": "8f1e4940"
      },
      "source": [
        "\n",
        "- El **71.0% (710) de registros son personas que viven cerca** que representan la Fuerza de Ventas.\n",
        "\n",
        "- El **29% (290) de registros son personas que viven lejos** que representan la Fuerza de Ventas.\n",
        "\n",
        "**Como conclusión, podemos ver que mas de la mitad (71%) de personas viven cerca que representan la fuerza de ventas y el resto son personas que viven lejos**."
      ]
    },
    {
      "cell_type": "markdown",
      "id": "8d6309c5",
      "metadata": {
        "id": "8d6309c5"
      },
      "source": [
        "#### 6. Historia\n",
        "Realizar un resumen para la variable historía"
      ]
    },
    {
      "cell_type": "code",
      "execution_count": null,
      "id": "a1040074",
      "metadata": {
        "id": "a1040074",
        "outputId": "459f8c91-ae82-4359-f4c8-922e0ab6c101",
        "colab": {
          "base_uri": "https://localhost:8080/",
          "height": 497
        }
      },
      "outputs": [
        {
          "output_type": "display_data",
          "data": {
            "text/plain": [
              "<Figure size 720x576 with 1 Axes>"
            ],
            "image/png": "[encoded data removed]"
          },
          "metadata": {
            "needs_background": "light"
          }
        }
      ],
      "source": [
        "# Gráfico de Barras\n",
        "plt.figure(figsize=(10,8))\n",
        "sns.countplot(x='Historia', data = FuerzaVtasConv)\n",
        "plt.show();"
      ]
    },
    {
      "cell_type": "code",
      "execution_count": null,
      "id": "d704037f",
      "metadata": {
        "id": "d704037f",
        "outputId": "4c6a36d9-3a3f-46ba-f5dc-72893668b27b",
        "colab": {
          "base_uri": "https://localhost:8080/"
        }
      },
      "outputs": [
        {
          "output_type": "stream",
          "name": "stdout",
          "text": [
            "No cuenta con Historia    303\n",
            "Alta                      255\n",
            "Baja                      230\n",
            "Media                     212\n",
            "Name: Historia, dtype: int64\n",
            "No cuenta con Historia    30.3\n",
            "Alta                      25.5\n",
            "Baja                      23.0\n",
            "Media                     21.2\n",
            "Name: Historia, dtype: float64\n"
          ]
        }
      ],
      "source": [
        "print(FuerzaVtasConv.Historia.value_counts())\n",
        "print(FuerzaVtasConv.Historia.value_counts(normalize = True)*100)"
      ]
    },
    {
      "cell_type": "markdown",
      "id": "9990447e",
      "metadata": {
        "id": "9990447e"
      },
      "source": [
        "\n",
        "- El **30.3% (303) de registros son personas que no cuentan con historia** que representan la Fuerza de Ventas.\n",
        "\n",
        "- El **25.5% (255) de registros son personas cuentan con historia Alta** que representan la Fuerza de Ventas.\n",
        "\n",
        "- El **23.0% (230) de registros son personas cuentan con historia Baja** que representan la Fuerza de Ventas.\n",
        "\n",
        "- El **21.2% (212) de registros son personas cuentan con historia Media** que representan la Fuerza de Ventas.\n",
        "\n",
        "**Como conclusión, podemos ver que un poco mas del 30% de personas no cuentan con histoa, ademas cerca de 1/4 de personas cuantan con historia Alta, ademas por debajo con un 23% estan las personas que cuentan con historia Baja y el resto de personas cuentan con historia Media**."
      ]
    },
    {
      "cell_type": "markdown",
      "id": "35e8f437",
      "metadata": {
        "id": "35e8f437"
      },
      "source": [
        "### B. Variables Numéricas"
      ]
    },
    {
      "cell_type": "code",
      "execution_count": null,
      "id": "fda7581f",
      "metadata": {
        "id": "fda7581f"
      },
      "outputs": [],
      "source": [
        "# ! pip install collections\n",
        "# Vamos a hacer uso de las siguientes librerías\n",
        "import statistics as stats\n",
        "from collections import Counter\n",
        "import numpy as np\n",
        "from scipy import stats as nstats\n",
        "import matplotlib.pyplot as plt\n",
        "from scipy.stats import kurtosis"
      ]
    },
    {
      "cell_type": "markdown",
      "id": "737f5ecd",
      "metadata": {
        "id": "737f5ecd"
      },
      "source": [
        "#### 1. Salario"
      ]
    },
    {
      "cell_type": "markdown",
      "id": "ef817e3d",
      "metadata": {
        "id": "ef817e3d"
      },
      "source": [
        "##### Medidas de tendencia central y de posición"
      ]
    },
    {
      "cell_type": "code",
      "execution_count": null,
      "id": "20c973cf",
      "metadata": {
        "id": "20c973cf",
        "outputId": "cfbd9b21-1eda-4b02-bc7d-670e093dadfe",
        "colab": {
          "base_uri": "https://localhost:8080/"
        }
      },
      "outputs": [
        {
          "output_type": "stream",
          "name": "stdout",
          "text": [
            "La Media de la variable Salario es: 56103.9\n",
            "La Mediana de la variable Salario es: 53700.0\n",
            "La Moda de la variable Salario es: [(72200, 7)]\n",
            "El Centro de Amplitud de la variable Salario es: 79350.0\n",
            "La Media Geométrica de la variable Salario es: 46707.39\n",
            "La Media Armónica de la variable Salario es: 37074.07\n",
            "La Media Recortada de la variable Salario es: 54306.25\n",
            "El Valor Mínimo de la variable Salario es: 10100\n",
            "El Valor Máximo de la variable Salario es: 168800\n",
            "-------------------------------------------------------\n",
            "El percentil 1 de la variable Salario es: 10999.0\n",
            "El percentil 5 de la variable Salario es: 13695.0\n",
            "El percentil 10 de la variable Salario es: 16300.0\n",
            "El percentil 20 de la variable Salario es: 23800.0\n",
            "El percentil 25 de la variable Salario es: 29975.0\n",
            "El percentil 30 de la variable Salario es: 36570.0\n",
            "El percentil 40 de la variable Salario es: 44800.0\n",
            "El percentil 50 de la variable Salario es: 53700.0\n",
            "El percentil 60 de la variable Salario es: 62840.0\n",
            "El percentil 70 de la variable Salario es: 72130.0\n",
            "El percentil 75 de la variable Salario es: 77025.0\n",
            "El percentil 80 de la variable Salario es: 83140.0\n",
            "El percentil 85 de la variable Salario es: 90615.0\n",
            "El percentil 90 de la variable Salario es: 99210.0\n",
            "El percentil 95 de la variable Salario es: 110020.0\n",
            "El percentil 99 de la variable Salario es: 126505.0\n",
            "-------------------------------------------------------\n",
            "La trimedia de la variable Salario es: 53600.0\n"
          ]
        }
      ],
      "source": [
        "print('La Media de la variable Salario es:', round(FuerzaVtasConv['Salario'].mean(), 2))\n",
        "print('La Mediana de la variable Salario es:', round(FuerzaVtasConv['Salario'].median(), 2))\n",
        "print('La Moda de la variable Salario es:', Counter(FuerzaVtasConv['Salario']).most_common(1))\n",
        "print('El Centro de Amplitud de la variable Salario es:', round((max(FuerzaVtasConv['Salario']) - min(FuerzaVtasConv['Salario'])) / 2, 2))\n",
        "print('La Media Geométrica de la variable Salario es:', np.exp(np.log(FuerzaVtasConv['Salario']).sum()/len(np.log(FuerzaVtasConv['Salario']))).round(2))\n",
        "print('La Media Armónica de la variable Salario es:', round(stats.harmonic_mean(FuerzaVtasConv['Salario']),2))\n",
        "print('La Media Recortada de la variable Salario es:', nstats.trim_mean(FuerzaVtasConv['Salario'], proportiontocut=0.1).round(2))\n",
        "print('El Valor Mínimo de la variable Salario es:', round(min(FuerzaVtasConv['Salario']), 2))\n",
        "print('El Valor Máximo de la variable Salario es:', round(max(FuerzaVtasConv['Salario']), 2))\n",
        "print('-------------------------------------------------------')\n",
        "print('El percentil 1 de la variable Salario es:', round(FuerzaVtasConv['Salario'].quantile(0.01), 2))\n",
        "print('El percentil 5 de la variable Salario es:', round(FuerzaVtasConv['Salario'].quantile(0.05), 2))\n",
        "print('El percentil 10 de la variable Salario es:', round(FuerzaVtasConv['Salario'].quantile(0.10), 2))\n",
        "print('El percentil 20 de la variable Salario es:', round(FuerzaVtasConv['Salario'].quantile(0.20), 2))\n",
        "print('El percentil 25 de la variable Salario es:', round(FuerzaVtasConv['Salario'].quantile(0.25), 2))\n",
        "print('El percentil 30 de la variable Salario es:', round(FuerzaVtasConv['Salario'].quantile(0.30), 2))\n",
        "print('El percentil 40 de la variable Salario es:', round(FuerzaVtasConv['Salario'].quantile(0.40), 2))\n",
        "print('El percentil 50 de la variable Salario es:', round(FuerzaVtasConv['Salario'].quantile(0.50), 2))\n",
        "print('El percentil 60 de la variable Salario es:', round(FuerzaVtasConv['Salario'].quantile(0.60), 2))\n",
        "print('El percentil 70 de la variable Salario es:', round(FuerzaVtasConv['Salario'].quantile(0.70), 2))\n",
        "print('El percentil 75 de la variable Salario es:', round(FuerzaVtasConv['Salario'].quantile(0.75), 2))\n",
        "print('El percentil 80 de la variable Salario es:', round(FuerzaVtasConv['Salario'].quantile(0.80), 2))\n",
        "print('El percentil 85 de la variable Salario es:', round(FuerzaVtasConv['Salario'].quantile(0.85), 2))\n",
        "print('El percentil 90 de la variable Salario es:', round(FuerzaVtasConv['Salario'].quantile(0.90), 2))\n",
        "print('El percentil 95 de la variable Salario es:', round(FuerzaVtasConv['Salario'].quantile(0.95), 2))\n",
        "print('El percentil 99 de la variable Salario es:', round(FuerzaVtasConv['Salario'].quantile(0.99), 2))\n",
        "print('-------------------------------------------------------')\n",
        "print('La trimedia de la variable Salario es:', round((FuerzaVtasConv['Salario'].quantile(0.25) + 2*FuerzaVtasConv['Salario'].quantile(0.50) + FuerzaVtasConv['Salario'].quantile(0.75))/4, 2))"
      ]
    },
    {
      "cell_type": "markdown",
      "id": "d9c90226",
      "metadata": {
        "id": "d9c90226"
      },
      "source": [
        "##### Medidas de dispersión"
      ]
    },
    {
      "cell_type": "code",
      "execution_count": null,
      "id": "f734ac6b",
      "metadata": {
        "id": "f734ac6b",
        "outputId": "fb13aa7e-3cbe-4023-aa26-4a0c32bff004",
        "colab": {
          "base_uri": "https://localhost:8080/"
        }
      },
      "outputs": [
        {
          "output_type": "stream",
          "name": "stdout",
          "text": [
            "El Rango de la variable Salario es: 158700\n",
            "-------------------------------------------------------\n",
            "El Cuartil 1 de la variable Salario es: 29975.0\n",
            "El Cuartil 2 (Mediana) de la variable Salario es: 53700.0\n",
            "El Cuartil 3 de la variable Salario es: 77025.0\n",
            "-------------------------------------------------------\n",
            "El Rango Intercuartílico (RIC) de la variable Salario es: 47050.0\n",
            "-------------------------------------------------------\n",
            "La Desviación Estándar de la variable Salario es: 30616.31\n",
            "La Varianza de la variable Salario es: 937358733.52\n",
            "-------------------------------------------------------\n",
            "El Coeficiente de Variación de la variable Salario es: 54.57 %\n",
            "-------------------------------------------------------\n",
            "El Valor de la Kurtosis de la variable Salario es: -0.56\n"
          ]
        }
      ],
      "source": [
        "print('El Rango de la variable Salario es:', round(np.max(FuerzaVtasConv['Salario']) - np.min(FuerzaVtasConv['Salario']), 2))\n",
        "print('-------------------------------------------------------')\n",
        "print('El Cuartil 1 de la variable Salario es:', round(FuerzaVtasConv['Salario'].quantile(0.25), 2))\n",
        "print('El Cuartil 2 (Mediana) de la variable Salario es:', round(FuerzaVtasConv['Salario'].quantile(0.50), 2))\n",
        "print('El Cuartil 3 de la variable Salario es:', round(FuerzaVtasConv['Salario'].quantile(0.75), 2))\n",
        "print('-------------------------------------------------------')\n",
        "print('El Rango Intercuartílico (RIC) de la variable Salario es:', round((FuerzaVtasConv['Salario'].quantile(0.75) - FuerzaVtasConv['Salario'].quantile(0.25)), 2))\n",
        "print('-------------------------------------------------------')\n",
        "print('La Desviación Estándar de la variable Salario es:', round(FuerzaVtasConv['Salario'].std(), 2))\n",
        "print('La Varianza de la variable Salario es:', round(FuerzaVtasConv['Salario'].var(), 2))\n",
        "print('-------------------------------------------------------')\n",
        "print('El Coeficiente de Variación de la variable Salario es:', round((FuerzaVtasConv['Salario'].std() / FuerzaVtasConv['Salario'].mean()) * 100, 2), '%')\n",
        "print('-------------------------------------------------------')\n",
        "print('El Valor de la Kurtosis de la variable Salario es:', round(kurtosis(FuerzaVtasConv['Salario'], fisher=True), 2))"
      ]
    },
    {
      "cell_type": "code",
      "execution_count": null,
      "id": "30871bcc",
      "metadata": {
        "id": "30871bcc",
        "outputId": "363be0a0-b20a-4ad1-d32e-ae72df545446",
        "colab": {
          "base_uri": "https://localhost:8080/",
          "height": 281
        }
      },
      "outputs": [
        {
          "output_type": "display_data",
          "data": {
            "text/plain": [
              "<Figure size 432x288 with 1 Axes>"
            ],
            "image/png": "[encoded data removed]"
          },
          "metadata": {
            "needs_background": "light"
          }
        }
      ],
      "source": [
        "# Boxplot de la variable Salario\n",
        "plt.boxplot(FuerzaVtasConv['Salario'])\n",
        "plt.title(\"Boxplot de la variable Salario\")\n",
        "plt.show()"
      ]
    },
    {
      "cell_type": "code",
      "execution_count": null,
      "id": "ff98f8af",
      "metadata": {
        "id": "ff98f8af",
        "outputId": "637182e6-a558-4021-9f16-da5da1aa236e",
        "colab": {
          "base_uri": "https://localhost:8080/",
          "height": 454
        }
      },
      "outputs": [
        {
          "output_type": "stream",
          "name": "stderr",
          "text": [
            "/usr/local/lib/python3.7/dist-packages/seaborn/distributions.py:2619: FutureWarning: `distplot` is a deprecated function and will be removed in a future version. Please adapt your code to use either `displot` (a figure-level function with similar flexibility) or `histplot` (an axes-level function for histograms).\n",
            "  warnings.warn(msg, FutureWarning)\n"
          ]
        },
        {
          "output_type": "display_data",
          "data": {
            "text/plain": [
              "<Figure size 1080x432 with 1 Axes>"
            ],
            "image/png": "[encoded data removed]"
          },
          "metadata": {
            "needs_background": "light"
          }
        }
      ],
      "source": [
        "# Gráfico de Densidad de la variable Salario\n",
        "plt.figure(figsize=(15,6))\n",
        "sns.distplot(FuerzaVtasConv['Salario'])\n",
        "plt.show()"
      ]
    },
    {
      "cell_type": "markdown",
      "id": "c6db1c9c",
      "metadata": {
        "id": "c6db1c9c"
      },
      "source": [
        "**Interpretación descriptiva de la variable Salario:**\n",
        "\n",
        "Se observa que todas las medidas de tendencia central (Media = 53104, Mediana = 53700, Moda = 72200, Media Geométrica = 46707, Media Armónica = 37074 y Media Recortada(20%) = 54306), están relativamente alejadas. Esto nos indica que la variable Salario no tiene datos centrados. Cuando vemos el mínimo y máximo valor (10100 y 168800) comparados con los Percentiles, existe una ligera sospecha de presencia de outliers por valores de arriba y ello lo corroboramos con el gráfico de boxplot, aunque no son muy exagerados mantendremos los datos ya que son observaciones reales. Tal vez, más adelante si se requiere hacer análisis más sofisticados necesitemos eliminar estos registros. El coeficiente de variación es de 54.57%, lo que quiere decir que la media es un estadístico no confiable de tendencia central.\n",
        "\n",
        "Observando el gráfico de densidad, podemos encontrar que los datos, visualmente, parecen tener una forma normal con sesgo hacia la derecha. EL valor de la Kurtosis = -0.56 indica que es platicúrtica."
      ]
    },
    {
      "cell_type": "markdown",
      "id": "16be4970",
      "metadata": {
        "id": "16be4970"
      },
      "source": [
        "#### 2. Niños"
      ]
    },
    {
      "cell_type": "markdown",
      "id": "100799b3",
      "metadata": {
        "id": "100799b3"
      },
      "source": [
        "##### Medidas de tendencia central y de posición"
      ]
    },
    {
      "cell_type": "code",
      "execution_count": null,
      "id": "2513bd9b",
      "metadata": {
        "id": "2513bd9b",
        "outputId": "b106991a-efe9-43ca-e5bf-d96804046f39",
        "colab": {
          "base_uri": "https://localhost:8080/"
        }
      },
      "outputs": [
        {
          "output_type": "stream",
          "name": "stdout",
          "text": [
            "La Media de la variable Niños es: 0.93\n",
            "La Mediana de la variable Niños es: 1.0\n",
            "La Moda de la variable Niños es: [(0, 462)]\n",
            "El Centro de Amplitud de la variable Niños es: 1.5\n",
            "La Media Geométrica de la variable Niños es: 0.0\n",
            "La Media Armónica de la variable Niños es: 0\n",
            "La Media Recortada de la variable Niños es: 0.79\n",
            "El Valor Mínimo de la variable Niños es: 0\n",
            "El Valor Máximo de la variable Niños es: 3\n",
            "-------------------------------------------------------\n",
            "El percentil 1 de la variable Niños es: 0.0\n",
            "El percentil 5 de la variable Niños es: 0.0\n",
            "El percentil 10 de la variable Niños es: 0.0\n",
            "El percentil 20 de la variable Niños es: 0.0\n",
            "El percentil 25 de la variable Niños es: 0.0\n",
            "El percentil 30 de la variable Niños es: 0.0\n",
            "El percentil 40 de la variable Niños es: 0.0\n",
            "El percentil 50 de la variable Niños es: 1.0\n",
            "El percentil 60 de la variable Niños es: 1.0\n",
            "El percentil 70 de la variable Niños es: 1.0\n",
            "El percentil 75 de la variable Niños es: 2.0\n",
            "El percentil 80 de la variable Niños es: 2.0\n",
            "El percentil 85 de la variable Niños es: 2.0\n",
            "El percentil 90 de la variable Niños es: 3.0\n",
            "El percentil 95 de la variable Niños es: 3.0\n",
            "El percentil 99 de la variable Niños es: 3.0\n",
            "-------------------------------------------------------\n",
            "La trimedia de la variable Niños es: 1.0\n"
          ]
        },
        {
          "output_type": "stream",
          "name": "stderr",
          "text": [
            "/usr/local/lib/python3.7/dist-packages/pandas/core/arraylike.py:364: RuntimeWarning: divide by zero encountered in log\n",
            "  result = getattr(ufunc, method)(*inputs, **kwargs)\n"
          ]
        }
      ],
      "source": [
        "print('La Media de la variable Niños es:', round(FuerzaVtasConv['Niños'].mean(), 2))\n",
        "print('La Mediana de la variable Niños es:', round(FuerzaVtasConv['Niños'].median(), 2))\n",
        "print('La Moda de la variable Niños es:', Counter(FuerzaVtasConv['Niños']).most_common(1))\n",
        "print('El Centro de Amplitud de la variable Niños es:', round((max(FuerzaVtasConv['Niños']) - min(FuerzaVtasConv['Niños'])) / 2, 2))\n",
        "print('La Media Geométrica de la variable Niños es:', np.exp(np.log(FuerzaVtasConv['Niños']).sum()/len(np.log(FuerzaVtasConv['Niños']))).round(2))\n",
        "print('La Media Armónica de la variable Niños es:', round(stats.harmonic_mean(FuerzaVtasConv['Niños']),2))\n",
        "print('La Media Recortada de la variable Niños es:', nstats.trim_mean(FuerzaVtasConv['Niños'], proportiontocut=0.1).round(2))\n",
        "print('El Valor Mínimo de la variable Niños es:', round(min(FuerzaVtasConv['Niños']), 2))\n",
        "print('El Valor Máximo de la variable Niños es:', round(max(FuerzaVtasConv['Niños']), 2))\n",
        "print('-------------------------------------------------------')\n",
        "print('El percentil 1 de la variable Niños es:', round(FuerzaVtasConv['Niños'].quantile(0.01), 2))\n",
        "print('El percentil 5 de la variable Niños es:', round(FuerzaVtasConv['Niños'].quantile(0.05), 2))\n",
        "print('El percentil 10 de la variable Niños es:', round(FuerzaVtasConv['Niños'].quantile(0.10), 2))\n",
        "print('El percentil 20 de la variable Niños es:', round(FuerzaVtasConv['Niños'].quantile(0.20), 2))\n",
        "print('El percentil 25 de la variable Niños es:', round(FuerzaVtasConv['Niños'].quantile(0.25), 2))\n",
        "print('El percentil 30 de la variable Niños es:', round(FuerzaVtasConv['Niños'].quantile(0.30), 2))\n",
        "print('El percentil 40 de la variable Niños es:', round(FuerzaVtasConv['Niños'].quantile(0.40), 2))\n",
        "print('El percentil 50 de la variable Niños es:', round(FuerzaVtasConv['Niños'].quantile(0.50), 2))\n",
        "print('El percentil 60 de la variable Niños es:', round(FuerzaVtasConv['Niños'].quantile(0.60), 2))\n",
        "print('El percentil 70 de la variable Niños es:', round(FuerzaVtasConv['Niños'].quantile(0.70), 2))\n",
        "print('El percentil 75 de la variable Niños es:', round(FuerzaVtasConv['Niños'].quantile(0.75), 2))\n",
        "print('El percentil 80 de la variable Niños es:', round(FuerzaVtasConv['Niños'].quantile(0.80), 2))\n",
        "print('El percentil 85 de la variable Niños es:', round(FuerzaVtasConv['Niños'].quantile(0.85), 2))\n",
        "print('El percentil 90 de la variable Niños es:', round(FuerzaVtasConv['Niños'].quantile(0.90), 2))\n",
        "print('El percentil 95 de la variable Niños es:', round(FuerzaVtasConv['Niños'].quantile(0.95), 2))\n",
        "print('El percentil 99 de la variable Niños es:', round(FuerzaVtasConv['Niños'].quantile(0.99), 2))\n",
        "print('-------------------------------------------------------')\n",
        "print('La trimedia de la variable Niños es:', round((FuerzaVtasConv['Niños'].quantile(0.25) + 2*FuerzaVtasConv['Niños'].quantile(0.50) + FuerzaVtasConv['Niños'].quantile(0.75))/4, 2))"
      ]
    },
    {
      "cell_type": "markdown",
      "id": "697db27d",
      "metadata": {
        "id": "697db27d"
      },
      "source": [
        "##### Medidas de dispersión"
      ]
    },
    {
      "cell_type": "code",
      "execution_count": null,
      "id": "41e46547",
      "metadata": {
        "id": "41e46547",
        "outputId": "c9f9ec0c-5826-40dc-9410-a75dbf19591d",
        "colab": {
          "base_uri": "https://localhost:8080/"
        }
      },
      "outputs": [
        {
          "output_type": "stream",
          "name": "stdout",
          "text": [
            "El Rango de la variable Niños es: 3\n",
            "-------------------------------------------------------\n",
            "El Cuartil 1 de la variable Niños es: 0.0\n",
            "El Cuartil 2 (Mediana) de la variable Niños es: 1.0\n",
            "El Cuartil 3 de la variable Niños es: 2.0\n",
            "-------------------------------------------------------\n",
            "El Rango Intercuartílico (RIC) de la variable Niños es: 2.0\n",
            "-------------------------------------------------------\n",
            "La Desviación Estándar de la variable Niños es: 1.05\n",
            "La Varianza de la variable Niños es: 1.1\n",
            "-------------------------------------------------------\n",
            "El Coeficiente de Variación de la variable Niños es: 112.53 %\n",
            "-------------------------------------------------------\n",
            "El Valor de la Kurtosis de la variable Niños es: -0.69\n"
          ]
        }
      ],
      "source": [
        "print('El Rango de la variable Niños es:', round(np.max(FuerzaVtasConv['Niños']) - np.min(FuerzaVtasConv['Niños']), 2))\n",
        "print('-------------------------------------------------------')\n",
        "print('El Cuartil 1 de la variable Niños es:', round(FuerzaVtasConv['Niños'].quantile(0.25), 2))\n",
        "print('El Cuartil 2 (Mediana) de la variable Niños es:', round(FuerzaVtasConv['Niños'].quantile(0.50), 2))\n",
        "print('El Cuartil 3 de la variable Niños es:', round(FuerzaVtasConv['Niños'].quantile(0.75), 2))\n",
        "print('-------------------------------------------------------')\n",
        "print('El Rango Intercuartílico (RIC) de la variable Niños es:', round((FuerzaVtasConv['Niños'].quantile(0.75) - FuerzaVtasConv['Niños'].quantile(0.25)), 2))\n",
        "print('-------------------------------------------------------')\n",
        "print('La Desviación Estándar de la variable Niños es:', round(FuerzaVtasConv['Niños'].std(), 2))\n",
        "print('La Varianza de la variable Niños es:', round(FuerzaVtasConv['Niños'].var(), 2))\n",
        "print('-------------------------------------------------------')\n",
        "print('El Coeficiente de Variación de la variable Niños es:', round((FuerzaVtasConv['Niños'].std() / FuerzaVtasConv['Niños'].mean()) * 100, 2), '%')\n",
        "print('-------------------------------------------------------')\n",
        "print('El Valor de la Kurtosis de la variable Niños es:', round(kurtosis(FuerzaVtasConv['Niños'], fisher=True), 2))"
      ]
    },
    {
      "cell_type": "code",
      "execution_count": null,
      "id": "98e55397",
      "metadata": {
        "id": "98e55397",
        "outputId": "9cdf6aba-224f-4995-c3cd-9fef20f2cf0c",
        "colab": {
          "base_uri": "https://localhost:8080/",
          "height": 281
        }
      },
      "outputs": [
        {
          "output_type": "display_data",
          "data": {
            "text/plain": [
              "<Figure size 432x288 with 1 Axes>"
            ],
            "image/png": "[encoded data removed]"
          },
          "metadata": {
            "needs_background": "light"
          }
        }
      ],
      "source": [
        "# Boxplot de la variable Niños\n",
        "plt.boxplot(FuerzaVtasConv['Niños'])\n",
        "plt.title(\"Boxplot de la variable Niños\")\n",
        "plt.show()"
      ]
    },
    {
      "cell_type": "code",
      "execution_count": null,
      "id": "bb6ddc91",
      "metadata": {
        "id": "bb6ddc91",
        "outputId": "47b7b539-1685-402c-edce-eaa363c6b0e6",
        "colab": {
          "base_uri": "https://localhost:8080/",
          "height": 443
        }
      },
      "outputs": [
        {
          "output_type": "stream",
          "name": "stderr",
          "text": [
            "/usr/local/lib/python3.7/dist-packages/seaborn/distributions.py:2619: FutureWarning: `distplot` is a deprecated function and will be removed in a future version. Please adapt your code to use either `displot` (a figure-level function with similar flexibility) or `histplot` (an axes-level function for histograms).\n",
            "  warnings.warn(msg, FutureWarning)\n"
          ]
        },
        {
          "output_type": "display_data",
          "data": {
            "text/plain": [
              "<Figure size 1080x432 with 1 Axes>"
            ],
            "image/png": "[encoded data removed]"
          },
          "metadata": {
            "needs_background": "light"
          }
        }
      ],
      "source": [
        "# Gráfico de Densidad de la variable Niños\n",
        "plt.figure(figsize=(15,6))\n",
        "sns.distplot(FuerzaVtasConv['Niños'])\n",
        "plt.show()"
      ]
    },
    {
      "cell_type": "markdown",
      "id": "8523c57d",
      "metadata": {
        "id": "8523c57d"
      },
      "source": [
        "**Interpretación descriptiva de la variable Niños:**\n",
        "\n",
        "Se observa que todas las medidas de tendencia central (Media = 0.93, Mediana = 1, Moda = 0, Media Geométrica = 0, Media Armónica = 0 y Media Recortada(20%) = 0.79), están relativamente alejadas. Esto nos indica que la variable Niños no tiene datos centrados. Cuando vemos el mínimo y máximo valor (0 y 3) comparados con los Percentiles, no existe sospecha alguna de presencia de outliers y ello lo corroboramos con el gráfico de boxplot. El coeficiente de variación es de 112.53%, lo que quiere decir que la media es un estadístico no confiable de tendencia central.\n",
        "\n",
        "Observando el gráfico de densidad, podemos encontrar que los datos, visualmente, parecen no tener una forma normal. El valor de la Kurtosis = -0.69 indica que es platicúrtica."
      ]
    },
    {
      "cell_type": "markdown",
      "id": "0d41b9ef",
      "metadata": {
        "id": "0d41b9ef"
      },
      "source": [
        "#### 3. Catalogos\n",
        "\n"
      ]
    },
    {
      "cell_type": "markdown",
      "id": "cc48794c",
      "metadata": {
        "id": "cc48794c"
      },
      "source": [
        "##### Medidas de tendencia central y de posición"
      ]
    },
    {
      "cell_type": "code",
      "execution_count": null,
      "id": "71df1195",
      "metadata": {
        "id": "71df1195",
        "colab": {
          "base_uri": "https://localhost:8080/"
        },
        "outputId": "be50f53a-810c-4fa7-ad49-be7ed2e7a3c7"
      },
      "outputs": [
        {
          "output_type": "stream",
          "name": "stdout",
          "text": [
            "La Media de la variable Catalogos es: 14.68\n",
            "La Mediana de la variable Catalogos es: 12.0\n",
            "La Moda de la variable Catalogos es: [(12, 282)]\n",
            "El Centro de Amplitud de la variable Catalogos es: 9.0\n",
            "La Media Geométrica de la variable Catalogos es: 13.02\n",
            "La Media Armónica de la variable Catalogos es: 11.34\n",
            "La Media Recortada de la variable Catalogos es: 14.6\n",
            "El Valor Mínimo de la variable Catalogos es: 6\n",
            "El Valor Máximo de la variable Catalogos es: 24\n",
            "-------------------------------------------------------\n",
            "El percentil 1 de la variable Catalogos es: 6.0\n",
            "El percentil 5 de la variable Catalogos es: 6.0\n",
            "El percentil 10 de la variable Catalogos es: 6.0\n",
            "El percentil 20 de la variable Catalogos es: 6.0\n",
            "El percentil 25 de la variable Catalogos es: 6.0\n",
            "El percentil 30 de la variable Catalogos es: 12.0\n",
            "El percentil 40 de la variable Catalogos es: 12.0\n",
            "El percentil 50 de la variable Catalogos es: 12.0\n",
            "El percentil 60 de la variable Catalogos es: 18.0\n",
            "El percentil 70 de la variable Catalogos es: 18.0\n",
            "El percentil 75 de la variable Catalogos es: 18.0\n",
            "El percentil 80 de la variable Catalogos es: 24.0\n",
            "El percentil 85 de la variable Catalogos es: 24.0\n",
            "El percentil 90 de la variable Catalogos es: 24.0\n",
            "El percentil 95 de la variable Catalogos es: 24.0\n",
            "El percentil 99 de la variable Catalogos es: 24.0\n",
            "-------------------------------------------------------\n",
            "La trimedia de la variable Catalogos es: 12.0\n"
          ]
        }
      ],
      "source": [
        "\n",
        "print('La Media de la variable Catalogos es:', round(FuerzaVtasConv['Catalogos'].mean(), 2))\n",
        "print('La Mediana de la variable Catalogos es:', round(FuerzaVtasConv['Catalogos'].median(), 2))\n",
        "print('La Moda de la variable Catalogos es:', Counter(FuerzaVtasConv['Catalogos']).most_common(1))\n",
        "print('El Centro de Amplitud de la variable Catalogos es:', round((max(FuerzaVtasConv['Catalogos']) - min(FuerzaVtasConv['Catalogos'])) / 2, 2))\n",
        "print('La Media Geométrica de la variable Catalogos es:', np.exp(np.log(FuerzaVtasConv['Catalogos']).sum()/len(np.log(FuerzaVtasConv['Catalogos']))).round(2))\n",
        "print('La Media Armónica de la variable Catalogos es:', round(stats.harmonic_mean(FuerzaVtasConv['Catalogos']),2))\n",
        "print('La Media Recortada de la variable Catalogos es:', nstats.trim_mean(FuerzaVtasConv['Catalogos'], proportiontocut=0.1).round(2))\n",
        "print('El Valor Mínimo de la variable Catalogos es:', round(min(FuerzaVtasConv['Catalogos']), 2))\n",
        "print('El Valor Máximo de la variable Catalogos es:', round(max(FuerzaVtasConv['Catalogos']), 2))\n",
        "print('-------------------------------------------------------')\n",
        "print('El percentil 1 de la variable Catalogos es:', round(FuerzaVtasConv['Catalogos'].quantile(0.01), 2))\n",
        "print('El percentil 5 de la variable Catalogos es:', round(FuerzaVtasConv['Catalogos'].quantile(0.05), 2))\n",
        "print('El percentil 10 de la variable Catalogos es:', round(FuerzaVtasConv['Catalogos'].quantile(0.10), 2))\n",
        "print('El percentil 20 de la variable Catalogos es:', round(FuerzaVtasConv['Catalogos'].quantile(0.20), 2))\n",
        "print('El percentil 25 de la variable Catalogos es:', round(FuerzaVtasConv['Catalogos'].quantile(0.25), 2))\n",
        "print('El percentil 30 de la variable Catalogos es:', round(FuerzaVtasConv['Catalogos'].quantile(0.30), 2))\n",
        "print('El percentil 40 de la variable Catalogos es:', round(FuerzaVtasConv['Catalogos'].quantile(0.40), 2))\n",
        "print('El percentil 50 de la variable Catalogos es:', round(FuerzaVtasConv['Catalogos'].quantile(0.50), 2))\n",
        "print('El percentil 60 de la variable Catalogos es:', round(FuerzaVtasConv['Catalogos'].quantile(0.60), 2))\n",
        "print('El percentil 70 de la variable Catalogos es:', round(FuerzaVtasConv['Catalogos'].quantile(0.70), 2))\n",
        "print('El percentil 75 de la variable Catalogos es:', round(FuerzaVtasConv['Catalogos'].quantile(0.75), 2))\n",
        "print('El percentil 80 de la variable Catalogos es:', round(FuerzaVtasConv['Catalogos'].quantile(0.80), 2))\n",
        "print('El percentil 85 de la variable Catalogos es:', round(FuerzaVtasConv['Catalogos'].quantile(0.85), 2))\n",
        "print('El percentil 90 de la variable Catalogos es:', round(FuerzaVtasConv['Catalogos'].quantile(0.90), 2))\n",
        "print('El percentil 95 de la variable Catalogos es:', round(FuerzaVtasConv['Catalogos'].quantile(0.95), 2))\n",
        "print('El percentil 99 de la variable Catalogos es:', round(FuerzaVtasConv['Catalogos'].quantile(0.99), 2))\n",
        "print('-------------------------------------------------------')\n",
        "print('La trimedia de la variable Catalogos es:', round((FuerzaVtasConv['Catalogos'].quantile(0.25) + 2*FuerzaVtasConv['Catalogos'].quantile(0.50) + FuerzaVtasConv['Catalogos'].quantile(0.75))/4, 2))"
      ]
    },
    {
      "cell_type": "markdown",
      "id": "c873188b",
      "metadata": {
        "id": "c873188b"
      },
      "source": [
        "##### Medidas de dispersión"
      ]
    },
    {
      "cell_type": "code",
      "execution_count": null,
      "id": "dd3c3d66",
      "metadata": {
        "id": "dd3c3d66",
        "colab": {
          "base_uri": "https://localhost:8080/"
        },
        "outputId": "035b8c87-76e2-46f0-d456-41e1cea917f3"
      },
      "outputs": [
        {
          "output_type": "stream",
          "name": "stdout",
          "text": [
            "El Rango de la variable Catalogos es: 18\n",
            "-------------------------------------------------------\n",
            "El Cuartil 1 de la variable Catalogos es: 6.0\n",
            "El Cuartil 2 (Mediana) de la variable Catalogos es: 12.0\n",
            "El Cuartil 3 de la variable Catalogos es: 18.0\n",
            "-------------------------------------------------------\n",
            "El Rango Intercuartílico (RIC) de la variable Catalogos es: 12.0\n",
            "-------------------------------------------------------\n",
            "La Desviación Estándar de la variable Catalogos es: 6.62\n",
            "La Varianza de la variable Catalogos es: 43.86\n",
            "-------------------------------------------------------\n",
            "El Coeficiente de Variación de la variable Catalogos es: 45.11 %\n",
            "-------------------------------------------------------\n",
            "El Valor de la Kurtosis de la variable Catalogos es: -1.32\n"
          ]
        }
      ],
      "source": [
        "print('El Rango de la variable Catalogos es:', round(np.max(FuerzaVtasConv['Catalogos']) - np.min(FuerzaVtasConv['Catalogos']), 2))\n",
        "print('-------------------------------------------------------')\n",
        "print('El Cuartil 1 de la variable Catalogos es:', round(FuerzaVtasConv['Catalogos'].quantile(0.25), 2))\n",
        "print('El Cuartil 2 (Mediana) de la variable Catalogos es:', round(FuerzaVtasConv['Catalogos'].quantile(0.50), 2))\n",
        "print('El Cuartil 3 de la variable Catalogos es:', round(FuerzaVtasConv['Catalogos'].quantile(0.75), 2))\n",
        "print('-------------------------------------------------------')\n",
        "print('El Rango Intercuartílico (RIC) de la variable Catalogos es:', round((FuerzaVtasConv['Catalogos'].quantile(0.75) - FuerzaVtasConv['Catalogos'].quantile(0.25)), 2))\n",
        "print('-------------------------------------------------------')\n",
        "print('La Desviación Estándar de la variable Catalogos es:', round(FuerzaVtasConv['Catalogos'].std(), 2))\n",
        "print('La Varianza de la variable Catalogos es:', round(FuerzaVtasConv['Catalogos'].var(), 2))\n",
        "print('-------------------------------------------------------')\n",
        "print('El Coeficiente de Variación de la variable Catalogos es:', round((FuerzaVtasConv['Catalogos'].std() / FuerzaVtasConv['Catalogos'].mean()) * 100, 2), '%')\n",
        "print('-------------------------------------------------------')\n",
        "print('El Valor de la Kurtosis de la variable Catalogos es:', round(kurtosis(FuerzaVtasConv['Catalogos'], fisher=True), 2))"
      ]
    },
    {
      "cell_type": "code",
      "execution_count": null,
      "id": "3489606f",
      "metadata": {
        "id": "3489606f",
        "colab": {
          "base_uri": "https://localhost:8080/",
          "height": 281
        },
        "outputId": "d4bd6cd9-9331-43ac-d0ab-b352ee5ff9d8"
      },
      "outputs": [
        {
          "output_type": "display_data",
          "data": {
            "text/plain": [
              "<Figure size 432x288 with 1 Axes>"
            ],
            "image/png": "[encoded data removed]"
          },
          "metadata": {
            "needs_background": "light"
          }
        }
      ],
      "source": [
        "# Boxplot de la variable Catalogos\n",
        "plt.boxplot(FuerzaVtasConv['Catalogos'])\n",
        "plt.title(\"Boxplot de la variable Catalogos\")\n",
        "plt.show()"
      ]
    },
    {
      "cell_type": "code",
      "execution_count": null,
      "id": "0a137bb0",
      "metadata": {
        "id": "0a137bb0",
        "colab": {
          "base_uri": "https://localhost:8080/",
          "height": 443
        },
        "outputId": "3cd67f73-1831-4d25-839e-6ce1158a8ed3"
      },
      "outputs": [
        {
          "output_type": "stream",
          "name": "stderr",
          "text": [
            "/usr/local/lib/python3.7/dist-packages/seaborn/distributions.py:2619: FutureWarning: `distplot` is a deprecated function and will be removed in a future version. Please adapt your code to use either `displot` (a figure-level function with similar flexibility) or `histplot` (an axes-level function for histograms).\n",
            "  warnings.warn(msg, FutureWarning)\n"
          ]
        },
        {
          "output_type": "display_data",
          "data": {
            "text/plain": [
              "<Figure size 1080x432 with 1 Axes>"
            ],
            "image/png": "[encoded data removed]"
          },
          "metadata": {
            "needs_background": "light"
          }
        }
      ],
      "source": [
        "# Gráfico de Densidad de la variable Catalogos\n",
        "plt.figure(figsize=(15,6))\n",
        "sns.distplot(FuerzaVtasConv['Catalogos'])\n",
        "plt.show()"
      ]
    },
    {
      "cell_type": "markdown",
      "id": "9166c8ca",
      "metadata": {
        "id": "9166c8ca"
      },
      "source": [
        "**Interpretación descriptiva de la variable Catalogos:**\n",
        "\n",
        "Se observa que todas las medidas de tendencia central en este caso (Media = 14.68, Mediana = 12.0, Moda = 12, Media Geométrica = 12, Media Armónica = 11.34 y Media Recortada(20%) = 14.6), están relativamente cercanos. Esto nos indica que la variable Catalogos tiene datos centrales. Cuando vemos el mínimo y máximo valor (6 y 24) comparados con los Percentiles, no existe sospecha alguna de presencia de outliers y ello lo corroboramos con el gráfico de boxplot. El coeficiente de variación es de 45.11%, lo que quiere decir que la media es un estadístico confiable de tendencia central.\n",
        "\n",
        "Observando el gráfico de densidad, podemos encontrar que los datos, visualmente, parecen tener una forma normal. El valor de la Kurtosis = -1.32 indica que es platicúrtica, como una distribucion relativamente achatada."
      ]
    },
    {
      "cell_type": "markdown",
      "id": "27bfee8f",
      "metadata": {
        "id": "27bfee8f"
      },
      "source": [
        "#### 4. MontoDinero\n",
        "\n",
        "##### Medidas de tendencia central y de posición\n",
        "\n"
      ]
    },
    {
      "cell_type": "code",
      "source": [
        "\n",
        "print('La Media de la variable MontoDinero es:', round(FuerzaVtasConv['MontoDinero'].mean(), 2))\n",
        "print('La Mediana de la variable MontoDinero es:', round(FuerzaVtasConv['MontoDinero'].median(), 2))\n",
        "print('La Moda de la variable MontoDinero es:', Counter(FuerzaVtasConv['MontoDinero']).most_common(1))\n",
        "print('El Centro de Amplitud de la variable MontoDinero es:', round((max(FuerzaVtasConv['MontoDinero']) - min(FuerzaVtasConv['MontoDinero'])) / 2, 2))\n",
        "print('La Media Geométrica de la variable MontoDinero es:', np.exp(np.log(FuerzaVtasConv['MontoDinero']).sum()/len(np.log(FuerzaVtasConv['MontoDinero']))).round(2))\n",
        "print('La Media Armónica de la variable MontoDinero es:', round(stats.harmonic_mean(FuerzaVtasConv['MontoDinero']),2))\n",
        "print('La Media Recortada de la variable MontoDinero es:', nstats.trim_mean(FuerzaVtasConv['MontoDinero'], proportiontocut=0.1).round(2))\n",
        "print('El Valor Mínimo de la variable MontoDinero es:', round(min(FuerzaVtasConv['MontoDinero']), 2))\n",
        "print('El Valor Máximo de la variable MontoDinero es:', round(max(FuerzaVtasConv['MontoDinero']), 2))\n",
        "print('-------------------------------------------------------')\n",
        "print('El percentil 1 de la variable MontoDinero es:', round(FuerzaVtasConv['MontoDinero'].quantile(0.01), 2))\n",
        "print('El percentil 5 de la variable MontoDinero es:', round(FuerzaVtasConv['MontoDinero'].quantile(0.05), 2))\n",
        "print('El percentil 10 de la variable MontoDinero es:', round(FuerzaVtasConv['MontoDinero'].quantile(0.10), 2))\n",
        "print('El percentil 20 de la variable MontoDinero es:', round(FuerzaVtasConv['MontoDinero'].quantile(0.20), 2))\n",
        "print('El percentil 25 de la variable MontoDinero es:', round(FuerzaVtasConv['MontoDinero'].quantile(0.25), 2))\n",
        "print('El percentil 30 de la variable MontoDinero es:', round(FuerzaVtasConv['MontoDinero'].quantile(0.30), 2))\n",
        "print('El percentil 40 de la variable MontoDinero es:', round(FuerzaVtasConv['MontoDinero'].quantile(0.40), 2))\n",
        "print('El percentil 50 de la variable MontoDinero es:', round(FuerzaVtasConv['MontoDinero'].quantile(0.50), 2))\n",
        "print('El percentil 60 de la variable MontoDinero es:', round(FuerzaVtasConv['MontoDinero'].quantile(0.60), 2))\n",
        "print('El percentil 70 de la variable MontoDinero es:', round(FuerzaVtasConv['MontoDinero'].quantile(0.70), 2))\n",
        "print('El percentil 75 de la variable MontoDinero es:', round(FuerzaVtasConv['MontoDinero'].quantile(0.75), 2))\n",
        "print('El percentil 80 de la variable MontoDinero es:', round(FuerzaVtasConv['MontoDinero'].quantile(0.80), 2))\n",
        "print('El percentil 85 de la variable MontoDinero es:', round(FuerzaVtasConv['MontoDinero'].quantile(0.85), 2))\n",
        "print('El percentil 90 de la variable MontoDinero es:', round(FuerzaVtasConv['MontoDinero'].quantile(0.90), 2))\n",
        "print('El percentil 95 de la variable MontoDinero es:', round(FuerzaVtasConv['MontoDinero'].quantile(0.95), 2))\n",
        "print('El percentil 99 de la variable MontoDinero es:', round(FuerzaVtasConv['MontoDinero'].quantile(0.99), 2))\n",
        "print('-------------------------------------------------------')\n",
        "print('La trimedia de la variable MontoDinero es:', round((FuerzaVtasConv['MontoDinero'].quantile(0.25) + 2*FuerzaVtasConv['MontoDinero'].quantile(0.50) + FuerzaVtasConv['MontoDinero'].quantile(0.75))/4, 2))"
      ],
      "metadata": {
        "colab": {
          "base_uri": "https://localhost:8080/"
        },
        "id": "XenHXY2mO28p",
        "outputId": "8cbb0f90-eda7-4e14-ad5d-59b4bbf58566"
      },
      "id": "XenHXY2mO28p",
      "execution_count": null,
      "outputs": [
        {
          "output_type": "stream",
          "name": "stdout",
          "text": [
            "La Media de la variable MontoDinero es: 1216.77\n",
            "La Mediana de la variable MontoDinero es: 962.0\n",
            "La Moda de la variable MontoDinero es: [(576, 4)]\n",
            "El Centro de Amplitud de la variable MontoDinero es: 3089.5\n",
            "La Media Geométrica de la variable MontoDinero es: 873.22\n",
            "La Media Armónica de la variable MontoDinero es: 571.73\n",
            "La Media Recortada de la variable MontoDinero es: 1085.41\n",
            "El Valor Mínimo de la variable MontoDinero es: 38\n",
            "El Valor Máximo de la variable MontoDinero es: 6217\n",
            "-------------------------------------------------------\n",
            "El percentil 1 de la variable MontoDinero es: 105.99\n",
            "El percentil 5 de la variable MontoDinero es: 187.9\n",
            "El percentil 10 de la variable MontoDinero es: 242.9\n",
            "El percentil 20 de la variable MontoDinero es: 409.8\n",
            "El percentil 25 de la variable MontoDinero es: 488.25\n",
            "El percentil 30 de la variable MontoDinero es: 572.4\n",
            "El percentil 40 de la variable MontoDinero es: 745.0\n",
            "El percentil 50 de la variable MontoDinero es: 962.0\n",
            "El percentil 60 de la variable MontoDinero es: 1213.8\n",
            "El percentil 70 de la variable MontoDinero es: 1543.3\n",
            "El percentil 75 de la variable MontoDinero es: 1688.5\n",
            "El percentil 80 de la variable MontoDinero es: 1895.4\n",
            "El percentil 85 de la variable MontoDinero es: 2177.9\n",
            "El percentil 90 de la variable MontoDinero es: 2551.4\n",
            "El percentil 95 de la variable MontoDinero es: 3052.55\n",
            "El percentil 99 de la variable MontoDinero es: 4281.79\n",
            "-------------------------------------------------------\n",
            "La trimedia de la variable MontoDinero es: 1025.19\n"
          ]
        }
      ]
    },
    {
      "cell_type": "markdown",
      "source": [
        "MEDIDAS DE DISPERSION"
      ],
      "metadata": {
        "id": "8whgsNcwR2Nu"
      },
      "id": "8whgsNcwR2Nu"
    },
    {
      "cell_type": "code",
      "source": [
        "# Completar\n",
        "print('El Rango de la variable MontoDinero es:', round(np.max(FuerzaVtasConv['MontoDinero']) - np.min(FuerzaVtasConv['MontoDinero']), 2))\n",
        "print('-------------------------------------------------------')\n",
        "print('El Cuartil 1 de la variable MontoDinero es:', round(FuerzaVtasConv['MontoDinero'].quantile(0.25), 2))\n",
        "print('El Cuartil 2 (Mediana) de la variable MontoDinero es:', round(FuerzaVtasConv['MontoDinero'].quantile(0.50), 2))\n",
        "print('El Cuartil 3 de la variable MontoDinero es:', round(FuerzaVtasConv['MontoDinero'].quantile(0.75), 2))\n",
        "print('-------------------------------------------------------')\n",
        "print('El Rango Intercuartílico (RIC) de la variable MontoDinero es:', round((FuerzaVtasConv['MontoDinero'].quantile(0.75) - FuerzaVtasConv['MontoDinero'].quantile(0.25)), 2))\n",
        "print('-------------------------------------------------------')\n",
        "print('La Desviación Estándar de la variable MontoDinero es:', round(FuerzaVtasConv['MontoDinero'].std(), 2))\n",
        "print('La Varianza de la variable MontoDinero es:', round(FuerzaVtasConv['MontoDinero'].var(), 2))\n",
        "print('-------------------------------------------------------')\n",
        "print('El Coeficiente de Variación de la variable MontoDinero es:', round((FuerzaVtasConv['MontoDinero'].std() / FuerzaVtasConv['MontoDinero'].mean()) * 100, 2), '%')\n",
        "print('-------------------------------------------------------')\n",
        "print('El Valor de la Kurtosis de la variable MontoDinero es:', round(kurtosis(FuerzaVtasConv['MontoDinero'], fisher=True), 2))"
      ],
      "metadata": {
        "colab": {
          "base_uri": "https://localhost:8080/"
        },
        "id": "BP_30kzJR3pj",
        "outputId": "f93c98c4-ff86-41fb-f996-d32aff3d28dd"
      },
      "id": "BP_30kzJR3pj",
      "execution_count": null,
      "outputs": [
        {
          "output_type": "stream",
          "name": "stdout",
          "text": [
            "El Rango de la variable MontoDinero es: 6179\n",
            "-------------------------------------------------------\n",
            "El Cuartil 1 de la variable MontoDinero es: 488.25\n",
            "El Cuartil 2 (Mediana) de la variable MontoDinero es: 962.0\n",
            "El Cuartil 3 de la variable MontoDinero es: 1688.5\n",
            "-------------------------------------------------------\n",
            "El Rango Intercuartílico (RIC) de la variable MontoDinero es: 1200.25\n",
            "-------------------------------------------------------\n",
            "La Desviación Estándar de la variable MontoDinero es: 961.07\n",
            "La Varianza de la variable MontoDinero es: 923652.88\n",
            "-------------------------------------------------------\n",
            "El Coeficiente de Variación de la variable MontoDinero es: 78.99 %\n",
            "-------------------------------------------------------\n",
            "El Valor de la Kurtosis de la variable MontoDinero es: 2.95\n"
          ]
        }
      ]
    },
    {
      "cell_type": "code",
      "source": [
        "# Boxplot de la variable MontoDinero\n",
        "plt.boxplot(FuerzaVtasConv['MontoDinero'])\n",
        "plt.title(\"Boxplot de la variable MontoDinero\")\n",
        "plt.show()"
      ],
      "metadata": {
        "colab": {
          "base_uri": "https://localhost:8080/",
          "height": 281
        },
        "id": "b2MmDasdR_zd",
        "outputId": "b496bca2-a1c3-42f3-eb3d-2714bc641a12"
      },
      "id": "b2MmDasdR_zd",
      "execution_count": null,
      "outputs": [
        {
          "output_type": "display_data",
          "data": {
            "text/plain": [
              "<Figure size 432x288 with 1 Axes>"
            ],
            "image/png": "[encoded data removed]"
          },
          "metadata": {
            "needs_background": "light"
          }
        }
      ]
    },
    {
      "cell_type": "code",
      "source": [
        "# Gráfico de Densidad de la variable MontoDinero\n",
        "plt.figure(figsize=(15,6))\n",
        "sns.distplot(FuerzaVtasConv['MontoDinero'])\n",
        "plt.show()"
      ],
      "metadata": {
        "colab": {
          "base_uri": "https://localhost:8080/",
          "height": 443
        },
        "id": "0URpX2ZgR_eQ",
        "outputId": "ebf62db3-c0ad-4a5c-f525-44253b6c0ca9"
      },
      "id": "0URpX2ZgR_eQ",
      "execution_count": null,
      "outputs": [
        {
          "output_type": "stream",
          "name": "stderr",
          "text": [
            "/usr/local/lib/python3.7/dist-packages/seaborn/distributions.py:2619: FutureWarning: `distplot` is a deprecated function and will be removed in a future version. Please adapt your code to use either `displot` (a figure-level function with similar flexibility) or `histplot` (an axes-level function for histograms).\n",
            "  warnings.warn(msg, FutureWarning)\n"
          ]
        },
        {
          "output_type": "display_data",
          "data": {
            "text/plain": [
              "<Figure size 1080x432 with 1 Axes>"
            ],
            "image/png": "[encoded data removed]"
          },
          "metadata": {
            "needs_background": "light"
          }
        }
      ]
    },
    {
      "cell_type": "markdown",
      "source": [
        "**Interpretación descriptiva de la variable MontoDinero:**\n",
        "\n",
        "Se observa que todas las medidas de tendencia central (Media = 1216.7, Mediana = 962.0, Moda = 576, Media Geométrica = 873.22, Media Armónica = 571.73 y Media Recortada(20%) = 1085.41), están relativamente alejadas. Esto nos indica que la variable MontoDinero no tiene datos centrados. Cuando vemos el mínimo y máximo valor (38 y 6217) comparados con los Percentiles, existe una sospecha de presencia de outliers por valores de arriba y ello lo corroboramos con el gráfico de boxplot, son muy exagerados mantendremos los datos ya que son observaciones reales. Tal vez, más adelante si se requiere hacer análisis más sofisticados necesitemos eliminar estos registros. El coeficiente de variación es de 78.99%, lo que quiere decir que la media es un estadístico no confiable de tendencia central.\n",
        "Observando el gráfico de densidad, podemos encontrar que los datos, visualmente,parecen tener una forma normal. El valor de la Kurtosis = 2.95 indica que es platicúrtica, como una distribucion relativamente apuntada."
      ],
      "metadata": {
        "id": "xrIJjQXoTxox"
      },
      "id": "xrIJjQXoTxox"
    },
    {
      "cell_type": "markdown",
      "id": "719374d9",
      "metadata": {
        "id": "719374d9"
      },
      "source": [
        "Se realiza un **análisis de asociación o correlación** mediante un gráfico de puntos y curvas y también un gráfico de correlación de Pearson"
      ]
    },
    {
      "cell_type": "markdown",
      "id": "87f59c7d",
      "metadata": {
        "id": "87f59c7d"
      },
      "source": [
        "##### Gráfico de puntos y curvas"
      ]
    },
    {
      "cell_type": "code",
      "execution_count": null,
      "id": "b68d3446",
      "metadata": {
        "id": "b68d3446",
        "outputId": "5f8be12c-79f6-4f49-defd-1fb6ed6287fd",
        "colab": {
          "base_uri": "https://localhost:8080/",
          "height": 763
        }
      },
      "outputs": [
        {
          "output_type": "execute_result",
          "data": {
            "text/plain": [
              "<seaborn.axisgrid.PairGrid at 0x7eff2b24bb10>"
            ]
          },
          "metadata": {},
          "execution_count": 59
        },
        {
          "output_type": "display_data",
          "data": {
            "text/plain": [
              "<Figure size 432x288 with 0 Axes>"
            ]
          },
          "metadata": {}
        },
        {
          "output_type": "display_data",
          "data": {
            "text/plain": [
              "<Figure size 720x720 with 20 Axes>"
            ],
            "image/png": "[encoded data removed]"
          },
          "metadata": {
            "needs_background": "light"
          }
        }
      ],
      "source": [
        "## Se importa la libreria\n",
        "import seaborn as sns\n",
        "\n",
        "plt.figure(figsize=(6,4))\n",
        "sns.pairplot(FuerzaVtasConv.iloc[:,[5, 6, 8, 9]], diag_kind='kde')"
      ]
    },
    {
      "cell_type": "markdown",
      "id": "96baaae0",
      "metadata": {
        "id": "96baaae0"
      },
      "source": [
        "**Interpretación:**\n",
        "\n",
        "Como se observa, en este gráfico visual, hay variables que correlacionan entre sí, como también aquellas que no tienen ningún grado de correlación. Por ejemplo, podemos mencionar las variables Salario y Monto de Dinero Edad presentan algún grado de correlación que vamos a calcular. Las variables Niños y Catálogos no presentan mucha correlación dado que son variables discretas y su distribución de puntos son muy parametrizadas."
      ]
    },
    {
      "cell_type": "code",
      "execution_count": null,
      "id": "11b73f86",
      "metadata": {
        "id": "11b73f86"
      },
      "outputs": [],
      "source": [
        "##### Matriz de Correlaciones"
      ]
    },
    {
      "cell_type": "code",
      "execution_count": null,
      "id": "d64c30fb",
      "metadata": {
        "id": "d64c30fb",
        "outputId": "0235701b-93b2-4e91-ad80-5ca13c826164",
        "colab": {
          "base_uri": "https://localhost:8080/",
          "height": 175
        }
      },
      "outputs": [
        {
          "output_type": "execute_result",
          "data": {
            "text/plain": [
              "              Salario     Niños  Catalogos  MontoDinero\n",
              "Salario      1.000000  0.049663   0.183551     0.699596\n",
              "Niños        0.049663  1.000000  -0.113455    -0.222308\n",
              "Catalogos    0.183551 -0.113455   1.000000     0.472650\n",
              "MontoDinero  0.699596 -0.222308   0.472650     1.000000"
            ],
            "text/html": [
              "\n",
              "  <div id=\"df-25ce54a5-ea6c-4085-950d-c06c4176bc24\">\n",
              "    <div class=\"colab-df-container\">\n",
              "      <div>\n",
              "<style scoped>\n",
              "    .dataframe tbody tr th:only-of-type {\n",
              "        vertical-align: middle;\n",
              "    }\n",
              "\n",
              "    .dataframe tbody tr th {\n",
              "        vertical-align: top;\n",
              "    }\n",
              "\n",
              "    .dataframe thead th {\n",
              "        text-align: right;\n",
              "    }\n",
              "</style>\n",
              "<table border=\"1\" class=\"dataframe\">\n",
              "  <thead>\n",
              "    <tr style=\"text-align: right;\">\n",
              "      <th></th>\n",
              "      <th>Salario</th>\n",
              "      <th>Niños</th>\n",
              "      <th>Catalogos</th>\n",
              "      <th>MontoDinero</th>\n",
              "    </tr>\n",
              "  </thead>\n",
              "  <tbody>\n",
              "    <tr>\n",
              "      <th>Salario</th>\n",
              "      <td>1.000000</td>\n",
              "      <td>0.049663</td>\n",
              "      <td>0.183551</td>\n",
              "      <td>0.699596</td>\n",
              "    </tr>\n",
              "    <tr>\n",
              "      <th>Niños</th>\n",
              "      <td>0.049663</td>\n",
              "      <td>1.000000</td>\n",
              "      <td>-0.113455</td>\n",
              "      <td>-0.222308</td>\n",
              "    </tr>\n",
              "    <tr>\n",
              "      <th>Catalogos</th>\n",
              "      <td>0.183551</td>\n",
              "      <td>-0.113455</td>\n",
              "      <td>1.000000</td>\n",
              "      <td>0.472650</td>\n",
              "    </tr>\n",
              "    <tr>\n",
              "      <th>MontoDinero</th>\n",
              "      <td>0.699596</td>\n",
              "      <td>-0.222308</td>\n",
              "      <td>0.472650</td>\n",
              "      <td>1.000000</td>\n",
              "    </tr>\n",
              "  </tbody>\n",
              "</table>\n",
              "</div>\n",
              "      <button class=\"colab-df-convert\" onclick=\"convertToInteractive('df-25ce54a5-ea6c-4085-950d-c06c4176bc24')\"\n",
              "              title=\"Convert this dataframe to an interactive table.\"\n",
              "              style=\"display:none;\">\n",
              "        \n",
              "  <svg xmlns=\"http://www.w3.org/2000/svg\" height=\"24px\"viewBox=\"0 0 24 24\"\n",
              "       width=\"24px\">\n",
              "    <path d=\"M0 0h24v24H0V0z\" fill=\"none\"/>\n",
              "    <path d=\"M18.56 5.44l.94 2.06.94-2.06 2.06-.94-2.06-.94-.94-2.06-.94 2.06-2.06.94zm-11 1L8.5 8.5l.94-2.06 2.06-.94-2.06-.94L8.5 2.5l-.94 2.06-2.06.94zm10 10l.94 2.06.94-2.06 2.06-.94-2.06-.94-.94-2.06-.94 2.06-2.06.94z\"/><path d=\"M17.41 7.96l-1.37-1.37c-.4-.4-.92-.59-1.43-.59-.52 0-1.04.2-1.43.59L10.3 9.45l-7.72 7.72c-.78.78-.78 2.05 0 2.83L4 21.41c.39.39.9.59 1.41.59.51 0 1.02-.2 1.41-.59l7.78-7.78 2.81-2.81c.8-.78.8-2.07 0-2.86zM5.41 20L4 18.59l7.72-7.72 1.47 1.35L5.41 20z\"/>\n",
              "  </svg>\n",
              "      </button>\n",
              "      \n",
              "  <style>\n",
              "    .colab-df-container {\n",
              "      display:flex;\n",
              "      flex-wrap:wrap;\n",
              "      gap: 12px;\n",
              "    }\n",
              "\n",
              "    .colab-df-convert {\n",
              "      background-color: #E8F0FE;\n",
              "      border: none;\n",
              "      border-radius: 50%;\n",
              "      cursor: pointer;\n",
              "      display: none;\n",
              "      fill: #1967D2;\n",
              "      height: 32px;\n",
              "      padding: 0 0 0 0;\n",
              "      width: 32px;\n",
              "    }\n",
              "\n",
              "    .colab-df-convert:hover {\n",
              "      background-color: #E2EBFA;\n",
              "      box-shadow: 0px 1px 2px rgba(60, 64, 67, 0.3), 0px 1px 3px 1px rgba(60, 64, 67, 0.15);\n",
              "      fill: #174EA6;\n",
              "    }\n",
              "\n",
              "    [theme=dark] .colab-df-convert {\n",
              "      background-color: #3B4455;\n",
              "      fill: #D2E3FC;\n",
              "    }\n",
              "\n",
              "    [theme=dark] .colab-df-convert:hover {\n",
              "      background-color: #434B5C;\n",
              "      box-shadow: 0px 1px 3px 1px rgba(0, 0, 0, 0.15);\n",
              "      filter: drop-shadow(0px 1px 2px rgba(0, 0, 0, 0.3));\n",
              "      fill: #FFFFFF;\n",
              "    }\n",
              "  </style>\n",
              "\n",
              "      <script>\n",
              "        const buttonEl =\n",
              "          document.querySelector('#df-25ce54a5-ea6c-4085-950d-c06c4176bc24 button.colab-df-convert');\n",
              "        buttonEl.style.display =\n",
              "          google.colab.kernel.accessAllowed ? 'block' : 'none';\n",
              "\n",
              "        async function convertToInteractive(key) {\n",
              "          const element = document.querySelector('#df-25ce54a5-ea6c-4085-950d-c06c4176bc24');\n",
              "          const dataTable =\n",
              "            await google.colab.kernel.invokeFunction('convertToInteractive',\n",
              "                                                     [key], {});\n",
              "          if (!dataTable) return;\n",
              "\n",
              "          const docLinkHtml = 'Like what you see? Visit the ' +\n",
              "            '<a target=\"_blank\" href=https://colab.research.google.com/notebooks/data_table.ipynb>data table notebook</a>'\n",
              "            + ' to learn more about interactive tables.';\n",
              "          element.innerHTML = '';\n",
              "          dataTable['output_type'] = 'display_data';\n",
              "          await google.colab.output.renderOutput(dataTable, element);\n",
              "          const docLink = document.createElement('div');\n",
              "          docLink.innerHTML = docLinkHtml;\n",
              "          element.appendChild(docLink);\n",
              "        }\n",
              "      </script>\n",
              "    </div>\n",
              "  </div>\n",
              "  "
            ]
          },
          "metadata": {},
          "execution_count": 60
        }
      ],
      "source": [
        "FuerzaVtasConv[['Salario', 'Niños', 'Catalogos', 'MontoDinero']].corr(method= 'pearson')"
      ]
    },
    {
      "cell_type": "code",
      "execution_count": null,
      "id": "d585d96c",
      "metadata": {
        "id": "d585d96c",
        "outputId": "08ae6632-fb8b-41cb-9bfe-df4f3994a525",
        "colab": {
          "base_uri": "https://localhost:8080/",
          "height": 630
        }
      },
      "outputs": [
        {
          "output_type": "execute_result",
          "data": {
            "text/plain": [
              "(4.0, 0.0)"
            ]
          },
          "metadata": {},
          "execution_count": 61
        },
        {
          "output_type": "display_data",
          "data": {
            "text/plain": [
              "<Figure size 1152x720 with 2 Axes>"
            ],
            "image/png": "[encoded data removed]"
          },
          "metadata": {}
        }
      ],
      "source": [
        "# Correlaciones con mapa de calor\n",
        "sns.set(font_scale=2)\n",
        "corr_matrix = FuerzaVtasConv[['Salario', 'Niños', 'Catalogos', 'MontoDinero']].corr()\n",
        "plt.figure(figsize=(16, 10))\n",
        "ax = sns.heatmap(corr_matrix,annot=True, fmt=\".2f\",cmap=\"YlGnBu\") \n",
        "ax.set_ylim(sorted(ax.get_xlim(), reverse=True))\n",
        "## Gráfico de calor para las correlaciones"
      ]
    },
    {
      "cell_type": "markdown",
      "id": "0e7a44e7",
      "metadata": {
        "id": "0e7a44e7"
      },
      "source": [
        "**Conclusiones y Hallazgos:**\n",
        "\n",
        "Podemos decir que **las variables Salario y Monto de Dinero tiene una correlación de 70%, la cual es considerada como una correlación alta y positiva**, es decir que **a mayor Salario también se observa un mayor Monto de Dinero asignado a la persona de la Fuerza de Ventas**.\n",
        "\n",
        "También es interesante recalcar la correlación que existe entre **las variables Monto de Dinero y Catálogos, tienen una correlación de 47%, la cual es considerada como una correlación moderada y positiva**, es decir que **a mayor Monto de Dinero asignado a la persona de la Fuerza de Ventas se observa un mayor Número de Catálogos o Cartera de Clientes asignadas a la persona de la FFVV**.\n",
        "\n",
        "Finalmente, se observa que **la variable Niños (discreta) es la que tiene las correlaciones más bajas o casi nulas con todas las variables**."
      ]
    },
    {
      "cell_type": "markdown",
      "id": "f632edb8",
      "metadata": {
        "id": "f632edb8"
      },
      "source": [
        "\n",
        "¿Cuáles son los **principales drivers o factores que podrían ayudarnos a explicar el problema de estudio**? "
      ]
    },
    {
      "cell_type": "markdown",
      "id": "1643a42d",
      "metadata": {
        "id": "1643a42d"
      },
      "source": [
        "***De acuerdo al análisis previo, los insights relevantes son: Salario, MontoDinero y Catalogos. mediante todo el analisis exploratorio de los datos, determinando las variables nominales, ordinales, realizando una limpieza de datos para eliminar valores nulos. A su vez se ha evaluado cada variable, informacion de cada tipo de dato y haciendo graficos para determinar la frecuencia de cada categoria en cada variable, obteniendo medidas de tendencias y dispersion obteniendo valor de cde cada insight para asi determinar una correlacion entre variables y determinar tendencias para una mejor toma de decisiones***"
      ]
    }
  ],
  "metadata": {
    "kernelspec": {
      "display_name": "Python 3 (ipykernel)",
      "language": "python",
      "name": "python3"
    },
    "language_info": {
      "codemirror_mode": {
        "name": "ipython",
        "version": 3
      },
      "file_extension": ".py",
      "mimetype": "text/x-python",
      "name": "python",
      "nbconvert_exporter": "python",
      "pygments_lexer": "ipython3",
      "version": "3.9.7"
    },
    "colab": {
      "provenance": [],
      "collapsed_sections": [
        "05f8a938"
      ],
      "include_colab_link": true
    }
  },
  "nbformat": 4,
  "nbformat_minor": 5
}